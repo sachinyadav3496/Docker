{
 "cells": [
  {
   "cell_type": "code",
   "execution_count": 1,
   "metadata": {},
   "outputs": [
    {
     "name": "stdout",
     "output_type": "stream",
     "text": [
      "Hello World!\n"
     ]
    }
   ],
   "source": [
    "print(\"Hello World!\")"
   ]
  },
  {
   "cell_type": "markdown",
   "metadata": {},
   "source": [
    "### Create Custom Network wordpress"
   ]
  },
  {
   "cell_type": "code",
   "execution_count": 2,
   "metadata": {},
   "outputs": [
    {
     "name": "stdout",
     "output_type": "stream",
     "text": [
      "48cff7f58c72e2aa5384a5ca61a0e9f83fc8db0b86e3ce3f9a50b1552fa79c34\n"
     ]
    }
   ],
   "source": [
    "!docker network create wordpress"
   ]
  },
  {
   "cell_type": "markdown",
   "metadata": {},
   "source": [
    "let's inspect this network "
   ]
  },
  {
   "cell_type": "code",
   "execution_count": 3,
   "metadata": {},
   "outputs": [
    {
     "name": "stdout",
     "output_type": "stream",
     "text": [
      "[\n",
      "    {\n",
      "        \"Name\": \"wordpress\",\n",
      "        \"Id\": \"48cff7f58c72e2aa5384a5ca61a0e9f83fc8db0b86e3ce3f9a50b1552fa79c34\",\n",
      "        \"Created\": \"2022-01-26T16:56:32.8943523Z\",\n",
      "        \"Scope\": \"local\",\n",
      "        \"Driver\": \"bridge\",\n",
      "        \"EnableIPv6\": false,\n",
      "        \"IPAM\": {\n",
      "            \"Driver\": \"default\",\n",
      "            \"Options\": {},\n",
      "            \"Config\": [\n",
      "                {\n",
      "                    \"Subnet\": \"172.19.0.0/16\",\n",
      "                    \"Gateway\": \"172.19.0.1\"\n",
      "                }\n",
      "            ]\n",
      "        },\n",
      "        \"Internal\": false,\n",
      "        \"Attachable\": false,\n",
      "        \"Ingress\": false,\n",
      "        \"ConfigFrom\": {\n",
      "            \"Network\": \"\"\n",
      "        },\n",
      "        \"ConfigOnly\": false,\n",
      "        \"Containers\": {},\n",
      "        \"Options\": {},\n",
      "        \"Labels\": {}\n",
      "    }\n",
      "]\n"
     ]
    }
   ],
   "source": [
    "!docker network inspect wordpress"
   ]
  },
  {
   "cell_type": "markdown",
   "metadata": {},
   "source": [
    "now let's download tagged images mysql:5.7 "
   ]
  },
  {
   "cell_type": "code",
   "execution_count": 4,
   "metadata": {},
   "outputs": [
    {
     "name": "stdout",
     "output_type": "stream",
     "text": [
      "5.7: Pulling from library/mysql\n",
      "72a69066d2fe: Already exists\n",
      "93619dbc5b36: Already exists\n",
      "99da31dd6142: Already exists\n",
      "e5c707858ec0: Already exists\n",
      "fc41578cbf60: Already exists\n",
      "4785d896ef10: Already exists\n",
      "7d250cdc93be: Already exists\n",
      "2efe6ef3579a: Pulling fs layer\n",
      "40dc4a5ca43a: Pulling fs layer\n",
      "cd6f90222f59: Pulling fs layer\n",
      "031e631e9021: Pulling fs layer\n",
      "031e631e9021: Waiting\n",
      "2efe6ef3579a: Verifying Checksum\n",
      "2efe6ef3579a: Download complete\n",
      "cd6f90222f59: Verifying Checksum\n",
      "cd6f90222f59: Download complete\n",
      "2efe6ef3579a: Pull complete\n",
      "031e631e9021: Verifying Checksum\n",
      "031e631e9021: Download complete\n",
      "40dc4a5ca43a: Verifying Checksum\n",
      "40dc4a5ca43a: Download complete\n",
      "40dc4a5ca43a: Pull complete\n",
      "cd6f90222f59: Pull complete\n",
      "031e631e9021: Pull complete\n",
      "Digest: sha256:66480693e01295d85954bb5dbe2f41f29ebceb57d3d8098ea0c9d201473f2d8b\n",
      "Status: Downloaded newer image for mysql:5.7\n",
      "docker.io/library/mysql:5.7\n"
     ]
    }
   ],
   "source": [
    "!docker pull mysql:5.7"
   ]
  },
  {
   "cell_type": "markdown",
   "metadata": {},
   "source": [
    "now let's download tagged images wordpress:5.4"
   ]
  },
  {
   "cell_type": "code",
   "execution_count": 5,
   "metadata": {},
   "outputs": [
    {
     "name": "stdout",
     "output_type": "stream",
     "text": [
      "5.4: Pulling from library/wordpress\n",
      "bf5952930446: Pulling fs layer\n",
      "a409b57eb464: Pulling fs layer\n",
      "3192e6c84ad0: Pulling fs layer\n",
      "43553740162b: Pulling fs layer\n",
      "d8b8bba42dea: Pulling fs layer\n",
      "eb10907c0110: Pulling fs layer\n",
      "d8b8bba42dea: Waiting\n",
      "10568906f34e: Pulling fs layer\n",
      "eb10907c0110: Waiting\n",
      "03fe17709781: Pulling fs layer\n",
      "98171b7166c8: Pulling fs layer\n",
      "3978c2fb05b8: Pulling fs layer\n",
      "71bf21524fa8: Pulling fs layer\n",
      "10568906f34e: Waiting\n",
      "24fe81782f1c: Pulling fs layer\n",
      "03fe17709781: Waiting\n",
      "7a2dfd067aa5: Pulling fs layer\n",
      "98171b7166c8: Waiting\n",
      "a04586f4f8fe: Pulling fs layer\n",
      "b8059b10e448: Pulling fs layer\n",
      "71bf21524fa8: Waiting\n",
      "e5b4db4a14b4: Pulling fs layer\n",
      "24fe81782f1c: Waiting\n",
      "48018c17c4e9: Pulling fs layer\n",
      "d09f106f9e16: Pulling fs layer\n",
      "2ce4312168ba: Pulling fs layer\n",
      "7a2dfd067aa5: Waiting\n",
      "01f0fe2819ef: Pulling fs layer\n",
      "b8059b10e448: Waiting\n",
      "a04586f4f8fe: Waiting\n",
      "48018c17c4e9: Waiting\n",
      "2ce4312168ba: Waiting\n",
      "d09f106f9e16: Waiting\n",
      "a409b57eb464: Verifying Checksum\n",
      "a409b57eb464: Download complete\n",
      "43553740162b: Verifying Checksum\n",
      "43553740162b: Download complete\n",
      "bf5952930446: Verifying Checksum\n",
      "bf5952930446: Download complete\n",
      "eb10907c0110: Verifying Checksum\n",
      "eb10907c0110: Download complete\n",
      "d8b8bba42dea: Download complete\n",
      "10568906f34e: Verifying Checksum\n",
      "10568906f34e: Download complete\n",
      "bf5952930446: Pull complete\n",
      "a409b57eb464: Pull complete\n",
      "98171b7166c8: Verifying Checksum\n",
      "98171b7166c8: Download complete\n",
      "03fe17709781: Verifying Checksum\n",
      "03fe17709781: Download complete\n",
      "71bf21524fa8: Download complete\n",
      "3192e6c84ad0: Verifying Checksum\n",
      "3192e6c84ad0: Download complete\n",
      "7a2dfd067aa5: Verifying Checksum\n",
      "7a2dfd067aa5: Download complete\n",
      "24fe81782f1c: Verifying Checksum\n",
      "24fe81782f1c: Download complete\n",
      "3978c2fb05b8: Verifying Checksum\n",
      "3978c2fb05b8: Download complete\n",
      "e5b4db4a14b4: Download complete\n",
      "48018c17c4e9: Verifying Checksum\n",
      "48018c17c4e9: Download complete\n",
      "a04586f4f8fe: Verifying Checksum\n",
      "a04586f4f8fe: Download complete\n",
      "d09f106f9e16: Verifying Checksum\n",
      "d09f106f9e16: Download complete\n",
      "3192e6c84ad0: Pull complete\n",
      "43553740162b: Pull complete\n",
      "01f0fe2819ef: Verifying Checksum\n",
      "01f0fe2819ef: Download complete\n",
      "b8059b10e448: Verifying Checksum\n",
      "b8059b10e448: Download complete\n",
      "d8b8bba42dea: Pull complete\n",
      "eb10907c0110: Pull complete\n",
      "10568906f34e: Pull complete\n",
      "03fe17709781: Pull complete\n",
      "98171b7166c8: Pull complete\n",
      "3978c2fb05b8: Pull complete\n",
      "71bf21524fa8: Pull complete\n",
      "24fe81782f1c: Pull complete\n",
      "7a2dfd067aa5: Pull complete\n",
      "a04586f4f8fe: Pull complete\n",
      "2ce4312168ba: Verifying Checksum\n",
      "2ce4312168ba: Download complete\n",
      "b8059b10e448: Pull complete\n",
      "e5b4db4a14b4: Pull complete\n",
      "48018c17c4e9: Pull complete\n",
      "d09f106f9e16: Pull complete\n",
      "2ce4312168ba: Pull complete\n",
      "01f0fe2819ef: Pull complete\n",
      "Digest: sha256:8e0e83b3feee510eae7b7d68bac74d1accd7af9760c384e3fcfc6c8683c9a5ed\n",
      "Status: Downloaded newer image for wordpress:5.4\n",
      "docker.io/library/wordpress:5.4\n"
     ]
    }
   ],
   "source": [
    "!docker pull wordpress:5.4"
   ]
  },
  {
   "cell_type": "markdown",
   "metadata": {},
   "source": [
    "let's launch mysql container usine environment variable"
   ]
  },
  {
   "cell_type": "code",
   "execution_count": 17,
   "metadata": {},
   "outputs": [
    {
     "name": "stdout",
     "output_type": "stream",
     "text": [
      "d0fd9d540874a83faee23ce57a5b8a4954722cf638821a841991373c125d920b\n"
     ]
    }
   ],
   "source": [
    "!docker run \\\n",
    "    --network wordpress \\\n",
    "    --name mysql \\\n",
    "    -e MYSQL_ROOT_PASSWORD=redhat \\\n",
    "    -e MYSQL_DATABASE=student \\\n",
    "    -e MYSQL_USER=sachin \\\n",
    "    -e MYSQL_PASSWORD=redhat \\\n",
    "    -d \\\n",
    "    mysql:5.7"
   ]
  },
  {
   "cell_type": "markdown",
   "metadata": {},
   "source": [
    "Let's verify environment variables in mysql container"
   ]
  },
  {
   "cell_type": "code",
   "execution_count": 18,
   "metadata": {},
   "outputs": [
    {
     "name": "stdout",
     "output_type": "stream",
     "text": [
      "PATH=/usr/local/sbin:/usr/local/bin:/usr/sbin:/usr/bin:/sbin:/bin\n",
      "HOSTNAME=d0fd9d540874\n",
      "MYSQL_USER=sachin\n",
      "MYSQL_PASSWORD=redhat\n",
      "MYSQL_ROOT_PASSWORD=redhat\n",
      "MYSQL_DATABASE=student\n",
      "GOSU_VERSION=1.14\n",
      "MYSQL_MAJOR=5.7\n",
      "MYSQL_VERSION=5.7.37-1debian10\n",
      "HOME=/root\n"
     ]
    }
   ],
   "source": [
    "!docker exec mysql env"
   ]
  },
  {
   "cell_type": "markdown",
   "metadata": {},
   "source": [
    "Now let's run phpmyadmin container"
   ]
  },
  {
   "cell_type": "code",
   "execution_count": 20,
   "metadata": {},
   "outputs": [
    {
     "name": "stdout",
     "output_type": "stream",
     "text": [
      "^C\n"
     ]
    }
   ],
   "source": [
    "!docker run \\\n",
    "    --network wordpress \\\n",
    "    --name phpmyadmin \\\n",
    "    -e PMA_HOST=mysql \\\n",
    "    -p 8080:80 \\\n",
    "    -d \\\n",
    "    phpmyadmin\n"
   ]
  },
  {
   "cell_type": "markdown",
   "metadata": {},
   "source": [
    "let's verify phpmyadmin env variables"
   ]
  },
  {
   "cell_type": "code",
   "execution_count": 21,
   "metadata": {},
   "outputs": [
    {
     "name": "stdout",
     "output_type": "stream",
     "text": [
      "PATH=/usr/local/sbin:/usr/local/bin:/usr/sbin:/usr/bin:/sbin:/bin\n",
      "HOSTNAME=e4c7d5ef2386\n",
      "PMA_HOST=mysql\n",
      "PHPIZE_DEPS=autoconf \t\tdpkg-dev \t\tfile \t\tg++ \t\tgcc \t\tlibc-dev \t\tmake \t\tpkg-config \t\tre2c\n",
      "PHP_INI_DIR=/usr/local/etc/php\n",
      "APACHE_CONFDIR=/etc/apache2\n",
      "APACHE_ENVVARS=/etc/apache2/envvars\n",
      "PHP_CFLAGS=-fstack-protector-strong -fpic -fpie -O2 -D_LARGEFILE_SOURCE -D_FILE_OFFSET_BITS=64\n",
      "PHP_CPPFLAGS=-fstack-protector-strong -fpic -fpie -O2 -D_LARGEFILE_SOURCE -D_FILE_OFFSET_BITS=64\n",
      "PHP_LDFLAGS=-Wl,-O1 -pie\n",
      "GPG_KEYS=42670A7FE4D0441C8E4632349E4FDC074A4EF02D 5A52880781F755608BF815FC910DEB46F53EA312\n",
      "PHP_VERSION=7.4.27\n",
      "PHP_URL=https://www.php.net/distributions/php-7.4.27.tar.xz\n",
      "PHP_ASC_URL=https://www.php.net/distributions/php-7.4.27.tar.xz.asc\n",
      "PHP_SHA256=3f8b937310f155822752229c2c2feb8cc2621e25a728e7b94d0d74c128c43d0c\n",
      "MAX_EXECUTION_TIME=600\n",
      "MEMORY_LIMIT=512M\n",
      "UPLOAD_LIMIT=2048K\n",
      "VERSION=5.1.1\n",
      "SHA256=1964d7190223c11e89fa1b7970c618e3a3bae2e859f5f60383f64c3848ef6921\n",
      "URL=https://files.phpmyadmin.net/phpMyAdmin/5.1.1/phpMyAdmin-5.1.1-all-languages.tar.xz\n",
      "HOME=/root\n"
     ]
    }
   ],
   "source": [
    "!docker exec phpmyadmin env"
   ]
  },
  {
   "cell_type": "markdown",
   "metadata": {},
   "source": [
    "let's launch wordpress website "
   ]
  },
  {
   "cell_type": "code",
   "execution_count": 22,
   "metadata": {},
   "outputs": [
    {
     "name": "stdout",
     "output_type": "stream",
     "text": [
      "^C\n"
     ]
    }
   ],
   "source": [
    "!docker run \\\n",
    "    --network wordpress \\\n",
    "    --name wordpress \\\n",
    "    -p 80:80 \\\n",
    "    -d \\\n",
    "    wordpress:5.4"
   ]
  },
  {
   "cell_type": "markdown",
   "metadata": {},
   "source": [
    "let's delete all"
   ]
  },
  {
   "cell_type": "code",
   "execution_count": 23,
   "metadata": {},
   "outputs": [
    {
     "name": "stdout",
     "output_type": "stream",
     "text": [
      "CONTAINER ID   IMAGE           COMMAND                  CREATED          STATUS          PORTS                  NAMES\n",
      "f47d5387d01e   wordpress:5.4   \"docker-entrypoint.s…\"   15 minutes ago   Up 15 minutes   0.0.0.0:80->80/tcp     wordpress\n",
      "e4c7d5ef2386   phpmyadmin      \"/docker-entrypoint.…\"   19 minutes ago   Up 19 minutes   0.0.0.0:8080->80/tcp   phpmyadmin\n",
      "d0fd9d540874   mysql:5.7       \"docker-entrypoint.s…\"   25 minutes ago   Up 25 minutes   3306/tcp, 33060/tcp    mysql\n"
     ]
    }
   ],
   "source": [
    "!docker ps"
   ]
  },
  {
   "cell_type": "code",
   "execution_count": 24,
   "metadata": {},
   "outputs": [
    {
     "name": "stdout",
     "output_type": "stream",
     "text": [
      "mysql\n"
     ]
    }
   ],
   "source": [
    "!docker stop mysql"
   ]
  },
  {
   "cell_type": "code",
   "execution_count": 25,
   "metadata": {},
   "outputs": [
    {
     "name": "stdout",
     "output_type": "stream",
     "text": [
      "172.19.0.1 - - [26/Jan/2022:17:26:25 +0000] \"GET / HTTP/1.1\" 200 6121 \"-\" \"Mozilla/5.0 (Windows NT 10.0; Win64; x64) AppleWebKit/537.36 (KHTML, like Gecko) Chrome/97.0.4692.99 Safari/537.36\"\n",
      "172.19.0.1 - - [26/Jan/2022:17:26:25 +0000] \"GET /js/messages.php?l=en&v=5.1.1 HTTP/1.1\" 200 8259 \"-\" \"Mozilla/5.0 (Windows NT 10.0; Win64; x64) AppleWebKit/537.36 (KHTML, like Gecko) Chrome/97.0.4692.99 Safari/537.36\"\n",
      "172.19.0.1 - - [26/Jan/2022:17:26:31 +0000] \"POST /index.php?route=/ HTTP/1.1\" 302 1158 \"-\" \"Mozilla/5.0 (Windows NT 10.0; Win64; x64) AppleWebKit/537.36 (KHTML, like Gecko) Chrome/97.0.4692.99 Safari/537.36\"\n",
      "172.19.0.1 - - [26/Jan/2022:17:26:31 +0000] \"GET /index.php?route=/&route=%2F HTTP/1.1\" 200 16645 \"-\" \"Mozilla/5.0 (Windows NT 10.0; Win64; x64) AppleWebKit/537.36 (KHTML, like Gecko) Chrome/97.0.4692.99 Safari/537.36\"\n",
      "172.19.0.1 - - [26/Jan/2022:17:26:32 +0000] \"GET /themes/pmahomme/css/theme.css?v=5.1.1&nocache=1334485021ltr&server=1 HTTP/1.1\" 200 37738 \"-\" \"Mozilla/5.0 (Windows NT 10.0; Win64; x64) AppleWebKit/537.36 (KHTML, like Gecko) Chrome/97.0.4692.99 Safari/537.36\"\n",
      "172.19.0.1 - - [26/Jan/2022:17:26:32 +0000] \"POST /index.php?route=/config/get HTTP/1.1\" 200 2701 \"-\" \"Mozilla/5.0 (Windows NT 10.0; Win64; x64) AppleWebKit/537.36 (KHTML, like Gecko) Chrome/97.0.4692.99 Safari/537.36\"\n",
      "172.19.0.1 - - [26/Jan/2022:17:26:32 +0000] \"POST /index.php?route=/navigation&ajax_request=1 HTTP/1.1\" 200 3394 \"-\" \"Mozilla/5.0 (Windows NT 10.0; Win64; x64) AppleWebKit/537.36 (KHTML, like Gecko) Chrome/97.0.4692.99 Safari/537.36\"\n",
      "172.19.0.1 - - [26/Jan/2022:17:26:32 +0000] \"POST /index.php?route=/config/get HTTP/1.1\" 200 2809 \"-\" \"Mozilla/5.0 (Windows NT 10.0; Win64; x64) AppleWebKit/537.36 (KHTML, like Gecko) Chrome/97.0.4692.99 Safari/537.36\"\n",
      "172.19.0.1 - - [26/Jan/2022:17:26:32 +0000] \"POST /index.php?route=/version-check HTTP/1.1\" 200 1209 \"-\" \"Mozilla/5.0 (Windows NT 10.0; Win64; x64) AppleWebKit/537.36 (KHTML, like Gecko) Chrome/97.0.4692.99 Safari/537.36\"\n",
      "172.19.0.1 - - [26/Jan/2022:17:26:32 +0000] \"POST /index.php?route=/config/set HTTP/1.1\" 200 2681 \"-\" \"Mozilla/5.0 (Windows NT 10.0; Win64; x64) AppleWebKit/537.36 (KHTML, like Gecko) Chrome/97.0.4692.99 Safari/537.36\"\n",
      "172.19.0.1 - - [26/Jan/2022:17:31:06 +0000] \"-\" 408 0 \"-\" \"-\"\n",
      "172.19.0.1 - - [26/Jan/2022:17:31:50 +0000] \"GET /themes/pmahomme/img/s_unlink.png HTTP/1.1\" 200 874 \"http://localhost:8080/themes/pmahomme/css/theme.css?v=5.1.1&nocache=1334485021ltr&server=1\" \"Mozilla/5.0 (Windows NT 10.0; Win64; x64) AppleWebKit/537.36 (KHTML, like Gecko) Chrome/97.0.4692.99 Safari/537.36\"\n",
      "phpmyadmin\n"
     ]
    },
    {
     "name": "stderr",
     "output_type": "stream",
     "text": [
      "AH00558: apache2: Could not reliably determine the server's fully qualified domain name, using 172.19.0.3. Set the 'ServerName' directive globally to suppress this message\n",
      "AH00558: apache2: Could not reliably determine the server's fully qualified domain name, using 172.19.0.3. Set the 'ServerName' directive globally to suppress this message\n",
      "[Wed Jan 26 17:25:19.754666 2022] [mpm_prefork:notice] [pid 1] AH00163: Apache/2.4.51 (Debian) PHP/7.4.27 configured -- resuming normal operations\n",
      "[Wed Jan 26 17:25:19.754772 2022] [core:notice] [pid 1] AH00094: Command line: 'apache2 -D FOREGROUND'\n",
      "[Wed Jan 26 17:45:43.556902 2022] [mpm_prefork:notice] [pid 1] AH00170: caught SIGWINCH, shutting down gracefully\n"
     ]
    }
   ],
   "source": [
    "!docker stop phpmyadmin"
   ]
  },
  {
   "cell_type": "code",
   "execution_count": 27,
   "metadata": {},
   "outputs": [
    {
     "name": "stdout",
     "output_type": "stream",
     "text": [
      "172.19.0.1 - - [26/Jan/2022:17:30:14 +0000] \"GET / HTTP/1.1\" 302 285 \"-\" \"Mozilla/5.0 (Windows NT 10.0; Win64; x64) AppleWebKit/537.36 (KHTML, like Gecko) Chrome/97.0.4692.99 Safari/537.36\"\n",
      "172.19.0.1 - - [26/Jan/2022:17:30:14 +0000] \"GET /wp-admin/setup-config.php HTTP/1.1\" 200 4413 \"-\" \"Mozilla/5.0 (Windows NT 10.0; Win64; x64) AppleWebKit/537.36 (KHTML, like Gecko) Chrome/97.0.4692.99 Safari/537.36\"\n",
      "172.19.0.1 - - [26/Jan/2022:17:30:15 +0000] \"GET /wp-includes/css/buttons.min.css?ver=5.4.2 HTTP/1.1\" 200 1796 \"http://localhost/wp-admin/setup-config.php\" \"Mozilla/5.0 (Windows NT 10.0; Win64; x64) AppleWebKit/537.36 (KHTML, like Gecko) Chrome/97.0.4692.99 Safari/537.36\"\n",
      "172.19.0.1 - - [26/Jan/2022:17:30:15 +0000] \"GET /wp-includes/css/dashicons.min.css?ver=5.4.2 HTTP/1.1\" 200 28819 \"http://localhost/wp-admin/setup-config.php\" \"Mozilla/5.0 (Windows NT 10.0; Win64; x64) AppleWebKit/537.36 (KHTML, like Gecko) Chrome/97.0.4692.99 Safari/537.36\"\n",
      "172.19.0.1 - - [26/Jan/2022:17:30:15 +0000] \"GET /wp-admin/css/forms.min.css?ver=5.4.2 HTTP/1.1\" 200 6344 \"http://localhost/wp-admin/setup-config.php\" \"Mozilla/5.0 (Windows NT 10.0; Win64; x64) AppleWebKit/537.36 (KHTML, like Gecko) Chrome/97.0.4692.99 Safari/537.36\"\n",
      "172.19.0.1 - - [26/Jan/2022:17:30:15 +0000] \"GET /wp-includes/js/jquery/jquery-migrate.min.js?ver=1.4.1 HTTP/1.1\" 200 4365 \"http://localhost/wp-admin/setup-config.php\" \"Mozilla/5.0 (Windows NT 10.0; Win64; x64) AppleWebKit/537.36 (KHTML, like Gecko) Chrome/97.0.4692.99 Safari/537.36\"\n",
      "172.19.0.1 - - [26/Jan/2022:17:30:15 +0000] \"GET /wp-admin/css/install.min.css?ver=5.4.2 HTTP/1.1\" 200 2168 \"http://localhost/wp-admin/setup-config.php\" \"Mozilla/5.0 (Windows NT 10.0; Win64; x64) AppleWebKit/537.36 (KHTML, like Gecko) Chrome/97.0.4692.99 Safari/537.36\"\n",
      "172.19.0.1 - - [26/Jan/2022:17:30:15 +0000] \"GET /wp-admin/css/l10n.min.css?ver=5.4.2 HTTP/1.1\" 200 1022 \"http://localhost/wp-admin/setup-config.php\" \"Mozilla/5.0 (Windows NT 10.0; Win64; x64) AppleWebKit/537.36 (KHTML, like Gecko) Chrome/97.0.4692.99 Safari/537.36\"\n",
      "172.19.0.1 - - [26/Jan/2022:17:30:15 +0000] \"GET /wp-admin/js/language-chooser.min.js?ver=5.4.2 HTTP/1.1\" 200 617 \"http://localhost/wp-admin/setup-config.php\" \"Mozilla/5.0 (Windows NT 10.0; Win64; x64) AppleWebKit/537.36 (KHTML, like Gecko) Chrome/97.0.4692.99 Safari/537.36\"\n",
      "172.19.0.1 - - [26/Jan/2022:17:30:15 +0000] \"GET /wp-includes/js/jquery/jquery.js?ver=1.12.4-wp HTTP/1.1\" 200 34130 \"http://localhost/wp-admin/setup-config.php\" \"Mozilla/5.0 (Windows NT 10.0; Win64; x64) AppleWebKit/537.36 (KHTML, like Gecko) Chrome/97.0.4692.99 Safari/537.36\"\n",
      "172.19.0.1 - - [26/Jan/2022:17:30:16 +0000] \"GET /wp-admin/images/wordpress-logo.svg?ver=20131107 HTTP/1.1\" 200 1810 \"http://localhost/wp-admin/css/install.min.css?ver=5.4.2\" \"Mozilla/5.0 (Windows NT 10.0; Win64; x64) AppleWebKit/537.36 (KHTML, like Gecko) Chrome/97.0.4692.99 Safari/537.36\"\n",
      "172.19.0.1 - - [26/Jan/2022:17:30:16 +0000] \"GET /wp-admin/images/spinner-2x.gif HTTP/1.1\" 200 7822 \"http://localhost/wp-admin/css/install.min.css?ver=5.4.2\" \"Mozilla/5.0 (Windows NT 10.0; Win64; x64) AppleWebKit/537.36 (KHTML, like Gecko) Chrome/97.0.4692.99 Safari/537.36\"\n",
      "172.19.0.1 - - [26/Jan/2022:17:30:16 +0000] \"GET /favicon.ico HTTP/1.1\" 302 284 \"http://localhost/wp-admin/setup-config.php\" \"Mozilla/5.0 (Windows NT 10.0; Win64; x64) AppleWebKit/537.36 (KHTML, like Gecko) Chrome/97.0.4692.99 Safari/537.36\"\n",
      "172.19.0.1 - - [26/Jan/2022:17:30:16 +0000] \"GET /wp-admin/setup-config.php HTTP/1.1\" 200 4413 \"http://localhost/wp-admin/setup-config.php\" \"Mozilla/5.0 (Windows NT 10.0; Win64; x64) AppleWebKit/537.36 (KHTML, like Gecko) Chrome/97.0.4692.99 Safari/537.36\"\n",
      "172.19.0.1 - - [26/Jan/2022:17:30:18 +0000] \"POST /wp-admin/setup-config.php?step=0 HTTP/1.1\" 200 1434 \"http://localhost/wp-admin/setup-config.php\" \"Mozilla/5.0 (Windows NT 10.0; Win64; x64) AppleWebKit/537.36 (KHTML, like Gecko) Chrome/97.0.4692.99 Safari/537.36\"\n",
      "172.19.0.1 - - [26/Jan/2022:17:30:18 +0000] \"GET /favicon.ico HTTP/1.1\" 302 284 \"http://localhost/wp-admin/setup-config.php?step=0\" \"Mozilla/5.0 (Windows NT 10.0; Win64; x64) AppleWebKit/537.36 (KHTML, like Gecko) Chrome/97.0.4692.99 Safari/537.36\"\n",
      "172.19.0.1 - - [26/Jan/2022:17:30:20 +0000] \"GET /wp-admin/setup-config.php?step=1 HTTP/1.1\" 200 1506 \"http://localhost/wp-admin/setup-config.php?step=0\" \"Mozilla/5.0 (Windows NT 10.0; Win64; x64) AppleWebKit/537.36 (KHTML, like Gecko) Chrome/97.0.4692.99 Safari/537.36\"\n",
      "172.19.0.1 - - [26/Jan/2022:17:30:20 +0000] \"GET /favicon.ico HTTP/1.1\" 302 284 \"http://localhost/wp-admin/setup-config.php?step=1\" \"Mozilla/5.0 (Windows NT 10.0; Win64; x64) AppleWebKit/537.36 (KHTML, like Gecko) Chrome/97.0.4692.99 Safari/537.36\"\n",
      "172.19.0.1 - - [26/Jan/2022:17:30:18 +0000] \"GET /wp-admin/setup-config.php HTTP/1.1\" 200 4413 \"http://localhost/wp-admin/setup-config.php?step=0\" \"Mozilla/5.0 (Windows NT 10.0; Win64; x64) AppleWebKit/537.36 (KHTML, like Gecko) Chrome/97.0.4692.99 Safari/537.36\"\n",
      "172.19.0.1 - - [26/Jan/2022:17:30:20 +0000] \"GET /wp-admin/setup-config.php HTTP/1.1\" 200 4413 \"http://localhost/wp-admin/setup-config.php?step=1\" \"Mozilla/5.0 (Windows NT 10.0; Win64; x64) AppleWebKit/537.36 (KHTML, like Gecko) Chrome/97.0.4692.99 Safari/537.36\"\n",
      "127.0.0.1 - - [26/Jan/2022:17:30:21 +0000] \"OPTIONS * HTTP/1.0\" 200 126 \"-\" \"Apache/2.4.38 (Debian) PHP/7.4.9 (internal dummy connection)\"\n",
      "127.0.0.1 - - [26/Jan/2022:17:30:22 +0000] \"OPTIONS * HTTP/1.0\" 200 126 \"-\" \"Apache/2.4.38 (Debian) PHP/7.4.9 (internal dummy connection)\"\n",
      "127.0.0.1 - - [26/Jan/2022:17:30:26 +0000] \"OPTIONS * HTTP/1.0\" 200 126 \"-\" \"Apache/2.4.38 (Debian) PHP/7.4.9 (internal dummy connection)\"\n",
      "172.19.0.1 - - [26/Jan/2022:17:31:06 +0000] \"POST /wp-admin/setup-config.php?step=2 HTTP/1.1\" 200 1071 \"http://localhost/wp-admin/setup-config.php?step=1\" \"Mozilla/5.0 (Windows NT 10.0; Win64; x64) AppleWebKit/537.36 (KHTML, like Gecko) Chrome/97.0.4692.99 Safari/537.36\"\n",
      "172.19.0.1 - - [26/Jan/2022:17:31:06 +0000] \"GET /favicon.ico HTTP/1.1\" 302 398 \"http://localhost/wp-admin/setup-config.php?step=2\" \"Mozilla/5.0 (Windows NT 10.0; Win64; x64) AppleWebKit/537.36 (KHTML, like Gecko) Chrome/97.0.4692.99 Safari/537.36\"\n",
      "172.19.0.1 - - [26/Jan/2022:17:31:06 +0000] \"GET /wp-admin/install.php HTTP/1.1\" 200 4536 \"http://localhost/wp-admin/setup-config.php?step=2\" \"Mozilla/5.0 (Windows NT 10.0; Win64; x64) AppleWebKit/537.36 (KHTML, like Gecko) Chrome/97.0.4692.99 Safari/537.36\"\n",
      "172.19.0.1 - - [26/Jan/2022:17:31:16 +0000] \"GET /wp-admin/install.php?language=en_US HTTP/1.1\" 200 2546 \"http://localhost/wp-admin/setup-config.php?step=2\" \"Mozilla/5.0 (Windows NT 10.0; Win64; x64) AppleWebKit/537.36 (KHTML, like Gecko) Chrome/97.0.4692.99 Safari/537.36\"\n",
      "172.19.0.1 - - [26/Jan/2022:17:31:17 +0000] \"GET /wp-includes/js/zxcvbn-async.min.js?ver=1.0 HTTP/1.1\" 200 607 \"http://localhost/wp-admin/install.php?language=en_US\" \"Mozilla/5.0 (Windows NT 10.0; Win64; x64) AppleWebKit/537.36 (KHTML, like Gecko) Chrome/97.0.4692.99 Safari/537.36\"\n",
      "172.19.0.1 - - [26/Jan/2022:17:31:17 +0000] \"GET /wp-admin/js/password-strength-meter.min.js?ver=5.4.2 HTTP/1.1\" 200 828 \"http://localhost/wp-admin/install.php?language=en_US\" \"Mozilla/5.0 (Windows NT 10.0; Win64; x64) AppleWebKit/537.36 (KHTML, like Gecko) Chrome/97.0.4692.99 Safari/537.36\"\n",
      "172.19.0.1 - - [26/Jan/2022:17:31:17 +0000] \"GET /wp-includes/js/wp-util.min.js?ver=5.4.2 HTTP/1.1\" 200 941 \"http://localhost/wp-admin/install.php?language=en_US\" \"Mozilla/5.0 (Windows NT 10.0; Win64; x64) AppleWebKit/537.36 (KHTML, like Gecko) Chrome/97.0.4692.99 Safari/537.36\"\n",
      "172.19.0.1 - - [26/Jan/2022:17:31:17 +0000] \"GET /wp-includes/js/underscore.min.js?ver=1.8.3 HTTP/1.1\" 200 6057 \"http://localhost/wp-admin/install.php?language=en_US\" \"Mozilla/5.0 (Windows NT 10.0; Win64; x64) AppleWebKit/537.36 (KHTML, like Gecko) Chrome/97.0.4692.99 Safari/537.36\"\n",
      "172.19.0.1 - - [26/Jan/2022:17:31:17 +0000] \"GET /wp-admin/js/user-profile.min.js?ver=5.4.2 HTTP/1.1\" 200 2452 \"http://localhost/wp-admin/install.php?language=en_US\" \"Mozilla/5.0 (Windows NT 10.0; Win64; x64) AppleWebKit/537.36 (KHTML, like Gecko) Chrome/97.0.4692.99 Safari/537.36\"\n",
      "wordpress172.19.0.1 - - [26/Jan/2022:17:31:17 +0000] \"GET /favicon.ico HTTP/1.1\" 302 398 \"http://localhost/wp-admin/install.php?language=en_US\" \"Mozilla/5.0 (Windows NT 10.0; Win64; x64) AppleWebKit/537.36 (KHTML, like Gecko) Chrome/97.0.4692.99 Safari/537.36\"\n",
      "\n",
      "172.19.0.1 - - [26/Jan/2022:17:31:17 +0000] \"GET /wp-includes/js/zxcvbn.min.js HTTP/1.1\" 200 400400 \"http://localhost/wp-admin/install.php?language=en_US\" \"Mozilla/5.0 (Windows NT 10.0; Win64; x64) AppleWebKit/537.36 (KHTML, like Gecko) Chrome/97.0.4692.99 Safari/537.36\"\n",
      "172.19.0.1 - - [26/Jan/2022:17:31:17 +0000] \"GET /wp-admin/install.php HTTP/1.1\" 200 4536 \"http://localhost/wp-admin/install.php?language=en_US\" \"Mozilla/5.0 (Windows NT 10.0; Win64; x64) AppleWebKit/537.36 (KHTML, like Gecko) Chrome/97.0.4692.99 Safari/537.36\"\n",
      "127.0.0.1 - - [26/Jan/2022:17:37:46 +0000] \"GET /2022/01/26/hello-world/ HTTP/1.1\" 200 8775 \"http://localhost/2022/01/26/hello-world/\" \"WordPress/5.4.2; http://localhost\"\n",
      "172.19.0.1 - - [26/Jan/2022:17:37:44 +0000] \"POST /wp-admin/install.php?step=2 HTTP/1.1\" 200 1515 \"http://localhost/wp-admin/install.php?language=en_US\" \"Mozilla/5.0 (Windows NT 10.0; Win64; x64) AppleWebKit/537.36 (KHTML, like Gecko) Chrome/97.0.4692.99 Safari/537.36\"\n",
      "172.19.0.1 - - [26/Jan/2022:17:37:47 +0000] \"GET /favicon.ico HTTP/1.1\" 302 389 \"http://localhost/wp-admin/install.php?step=2\" \"Mozilla/5.0 (Windows NT 10.0; Win64; x64) AppleWebKit/537.36 (KHTML, like Gecko) Chrome/97.0.4692.99 Safari/537.36\"\n",
      "172.19.0.1 - - [26/Jan/2022:17:37:48 +0000] \"GET /wp-includes/images/w-logo-blue-white-bg.png HTTP/1.1\" 200 4405 \"http://localhost/wp-admin/install.php?step=2\" \"Mozilla/5.0 (Windows NT 10.0; Win64; x64) AppleWebKit/537.36 (KHTML, like Gecko) Chrome/97.0.4692.99 Safari/537.36\"\n",
      "172.19.0.1 - - [26/Jan/2022:17:37:55 +0000] \"GET /wp-login.php HTTP/1.1\" 200 2271 \"http://localhost/wp-admin/install.php?step=2\" \"Mozilla/5.0 (Windows NT 10.0; Win64; x64) AppleWebKit/537.36 (KHTML, like Gecko) Chrome/97.0.4692.99 Safari/537.36\"\n",
      "172.19.0.1 - - [26/Jan/2022:17:37:55 +0000] \"GET /wp-admin/css/login.min.css?ver=5.4.2 HTTP/1.1\" 200 2235 \"http://localhost/wp-login.php\" \"Mozilla/5.0 (Windows NT 10.0; Win64; x64) AppleWebKit/537.36 (KHTML, like Gecko) Chrome/97.0.4692.99 Safari/537.36\"\n",
      "127.0.0.1 - - [26/Jan/2022:17:37:59 +0000] \"POST /wp-admin/upgrade.php?step=upgrade_db HTTP/1.1\" 200 285 \"http://localhost/wp-admin/upgrade.php?step=upgrade_db\" \"WordPress/5.4.2; http://localhost\"\n",
      "172.19.0.1 - - [26/Jan/2022:17:37:59 +0000] \"POST /wp-login.php HTTP/1.1\" 302 1136 \"http://localhost/wp-login.php\" \"Mozilla/5.0 (Windows NT 10.0; Win64; x64) AppleWebKit/537.36 (KHTML, like Gecko) Chrome/97.0.4692.99 Safari/537.36\"\n",
      "127.0.0.1 - - [26/Jan/2022:17:37:46 +0000] \"POST /wp-cron.php?doing_wp_cron=1643218666.3978888988494873046875 HTTP/1.1\" 200 191 \"http://localhost/wp-cron.php?doing_wp_cron=1643218666.3978888988494873046875\" \"WordPress/5.4.2; http://localhost\"\n",
      "172.19.0.1 - - [26/Jan/2022:17:37:59 +0000] \"GET /wp-admin/ HTTP/1.1\" 200 16358 \"http://localhost/wp-login.php\" \"Mozilla/5.0 (Windows NT 10.0; Win64; x64) AppleWebKit/537.36 (KHTML, like Gecko) Chrome/97.0.4692.99 Safari/537.36\"\n",
      "172.19.0.1 - - [26/Jan/2022:17:38:04 +0000] \"GET /wp-includes/js/thickbox/thickbox.css?ver=5.4.9 HTTP/1.1\" 200 1268 \"http://localhost/wp-admin/\" \"Mozilla/5.0 (Windows NT 10.0; Win64; x64) AppleWebKit/537.36 (KHTML, like Gecko) Chrome/97.0.4692.99 Safari/537.36\"\n",
      "172.19.0.1 - - [26/Jan/2022:17:38:04 +0000] \"GET /wp-admin/load-scripts.php?c=0&load%5Bchunk_0%5D=jquery-core,jquery-migrate,utils&ver=5.4.9 HTTP/1.1\" 200 38278 \"http://localhost/wp-admin/\" \"Mozilla/5.0 (Windows NT 10.0; Win64; x64) AppleWebKit/537.36 (KHTML, like Gecko) Chrome/97.0.4692.99 Safari/537.36\"\n",
      "172.19.0.1 - - [26/Jan/2022:17:38:04 +0000] \"GET /wp-admin/load-styles.php?c=0&dir=ltr&load%5Bchunk_0%5D=dashicons,admin-bar,site-health,common,forms,admin-menu,dashboard,list-tables,edit,revisions,media,themes,about,nav-menus,wp-poi&load%5Bchunk_1%5D=nter,widgets,site-icon,l10n,buttons,wp-auth-check&ver=5.4.9 HTTP/1.1\" 200 88584 \"http://localhost/wp-admin/\" \"Mozilla/5.0 (Windows NT 10.0; Win64; x64) AppleWebKit/537.36 (KHTML, like Gecko) Chrome/97.0.4692.99 Safari/537.36\"\n",
      "172.19.0.1 - - [26/Jan/2022:17:38:04 +0000] \"GET /wp-includes/css/editor.min.css?ver=5.4.9 HTTP/1.1\" 200 6289 \"http://localhost/wp-admin/\" \"Mozilla/5.0 (Windows NT 10.0; Win64; x64) AppleWebKit/537.36 (KHTML, like Gecko) Chrome/97.0.4692.99 Safari/537.36\"\n",
      "172.19.0.1 - - [26/Jan/2022:17:38:04 +0000] \"GET /wp-admin/load-scripts.php?c=0&load%5Bchunk_0%5D=hoverIntent,common,hoverintent-js,admin-bar,clipboard,underscore,wp-util&ver=5.4.9 HTTP/1.1\" 200 16437 \"http://localhost/wp-admin/\" \"Mozilla/5.0 (Windows NT 10.0; Win64; x64) AppleWebKit/537.36 (KHTML, like Gecko) Chrome/97.0.4692.99 Safari/537.36\"\n",
      "172.19.0.1 - - [26/Jan/2022:17:38:04 +0000] \"GET /wp-includes/js/dist/vendor/wp-polyfill.min.js?ver=7.4.4 HTTP/1.1\" 200 34413 \"http://localhost/wp-admin/\" \"Mozilla/5.0 (Windows NT 10.0; Win64; x64) AppleWebKit/537.36 (KHTML, like Gecko) Chrome/97.0.4692.99 Safari/537.36\"\n",
      "172.19.0.1 - - [26/Jan/2022:17:38:04 +0000] \"GET /wp-includes/js/dist/dom-ready.min.js?ver=93db39f6fe07a70cb9217310bec0a531 HTTP/1.1\" 200 949 \"http://localhost/wp-admin/\" \"Mozilla/5.0 (Windows NT 10.0; Win64; x64) AppleWebKit/537.36 (KHTML, like Gecko) Chrome/97.0.4692.99 Safari/537.36\"\n",
      "172.19.0.1 - - [26/Jan/2022:17:38:05 +0000] \"GET /wp-includes/js/dist/a11y.min.js?ver=8d75be94e0703857a3323c972eb3d7d2 HTTP/1.1\" 200 1380 \"http://localhost/wp-admin/\" \"Mozilla/5.0 (Windows NT 10.0; Win64; x64) AppleWebKit/537.36 (KHTML, like Gecko) Chrome/97.0.4692.99 Safari/537.36\"\n",
      "172.19.0.1 - - [26/Jan/2022:17:38:05 +0000] \"GET /wp-includes/js/dist/i18n.min.js?ver=526cadb8371e147b94b51de08c0e6167 HTTP/1.1\" 200 3930 \"http://localhost/wp-admin/\" \"Mozilla/5.0 (Windows NT 10.0; Win64; x64) AppleWebKit/537.36 (KHTML, like Gecko) Chrome/97.0.4692.99 Safari/537.36\"\n",
      "172.19.0.1 - - [26/Jan/2022:17:38:05 +0000] \"GET /wp-admin/js/site-health.min.js?ver=5.4.9 HTTP/1.1\" 200 2102 \"http://localhost/wp-admin/\" \"Mozilla/5.0 (Windows NT 10.0; Win64; x64) AppleWebKit/537.36 (KHTML, like Gecko) Chrome/97.0.4692.99 Safari/537.36\"\n",
      "172.19.0.1 - - [26/Jan/2022:17:38:05 +0000] \"GET /wp-includes/js/wp-ajax-response.min.js?ver=5.4.9 HTTP/1.1\" 200 1334 \"http://localhost/wp-admin/\" \"Mozilla/5.0 (Windows NT 10.0; Win64; x64) AppleWebKit/537.36 (KHTML, like Gecko) Chrome/97.0.4692.99 Safari/537.36\"\n",
      "172.19.0.1 - - [26/Jan/2022:17:38:05 +0000] \"GET /wp-includes/js/jquery/jquery.color.min.js?ver=2.1.2 HTTP/1.1\" 200 4275 \"http://localhost/wp-admin/\" \"Mozilla/5.0 (Windows NT 10.0; Win64; x64) AppleWebKit/537.36 (KHTML, like Gecko) Chrome/97.0.4692.99 Safari/537.36\"\n",
      "172.19.0.1 - - [26/Jan/2022:17:38:05 +0000] \"GET /wp-includes/js/wp-lists.min.js?ver=5.4.9 HTTP/1.1\" 200 2871 \"http://localhost/wp-admin/\" \"Mozilla/5.0 (Windows NT 10.0; Win64; x64) AppleWebKit/537.36 (KHTML, like Gecko) Chrome/97.0.4692.99 Safari/537.36\"\n",
      "172.19.0.1 - - [26/Jan/2022:17:38:05 +0000] \"GET /wp-includes/js/quicktags.min.js?ver=5.4.9 HTTP/1.1\" 200 3863 \"http://localhost/wp-admin/\" \"Mozilla/5.0 (Windows NT 10.0; Win64; x64) AppleWebKit/537.36 (KHTML, like Gecko) Chrome/97.0.4692.99 Safari/537.36\"\n",
      "172.19.0.1 - - [26/Jan/2022:17:38:05 +0000] \"GET /wp-includes/js/jquery/jquery.query.js?ver=2.1.7 HTTP/1.1\" 200 2002 \"http://localhost/wp-admin/\" \"Mozilla/5.0 (Windows NT 10.0; Win64; x64) AppleWebKit/537.36 (KHTML, like Gecko) Chrome/97.0.4692.99 Safari/537.36\"\n",
      "172.19.0.1 - - [26/Jan/2022:17:38:05 +0000] \"GET /wp-includes/js/jquery/ui/core.min.js?ver=1.11.4 HTTP/1.1\" 200 2161 \"http://localhost/wp-admin/\" \"Mozilla/5.0 (Windows NT 10.0; Win64; x64) AppleWebKit/537.36 (KHTML, like Gecko) Chrome/97.0.4692.99 Safari/537.36\"\n",
      "172.19.0.1 - - [26/Jan/2022:17:38:05 +0000] \"GET /wp-admin/js/edit-comments.min.js?ver=5.4.9 HTTP/1.1\" 200 5382 \"http://localhost/wp-admin/\" \"Mozilla/5.0 (Windows NT 10.0; Win64; x64) AppleWebKit/537.36 (KHTML, like Gecko) Chrome/97.0.4692.99 Safari/537.36\"\n",
      "172.19.0.1 - - [26/Jan/2022:17:38:05 +0000] \"GET /wp-includes/js/jquery/ui/widget.min.js?ver=1.11.4 HTTP/1.1\" 200 2894 \"http://localhost/wp-admin/\" \"Mozilla/5.0 (Windows NT 10.0; Win64; x64) AppleWebKit/537.36 (KHTML, like Gecko) Chrome/97.0.4692.99 Safari/537.36\"\n",
      "172.19.0.1 - - [26/Jan/2022:17:38:05 +0000] \"GET /wp-includes/js/jquery/ui/mouse.min.js?ver=1.11.4 HTTP/1.1\" 200 1340 \"http://localhost/wp-admin/\" \"Mozilla/5.0 (Windows NT 10.0; Win64; x64) AppleWebKit/537.36 (KHTML, like Gecko) Chrome/97.0.4692.99 Safari/537.36\"\n",
      "172.19.0.1 - - [26/Jan/2022:17:38:05 +0000] \"GET /wp-includes/js/jquery/ui/sortable.min.js?ver=1.11.4 HTTP/1.1\" 200 6776 \"http://localhost/wp-admin/\" \"Mozilla/5.0 (Windows NT 10.0; Win64; x64) AppleWebKit/537.36 (KHTML, like Gecko) Chrome/97.0.4692.99 Safari/537.36\"\n",
      "172.19.0.1 - - [26/Jan/2022:17:38:05 +0000] \"GET /wp-admin/js/postbox.min.js?ver=5.4.9 HTTP/1.1\" 200 1926 \"http://localhost/wp-admin/\" \"Mozilla/5.0 (Windows NT 10.0; Win64; x64) AppleWebKit/537.36 (KHTML, like Gecko) Chrome/97.0.4692.99 Safari/537.36\"\n",
      "172.19.0.1 - - [26/Jan/2022:17:38:05 +0000] \"GET /wp-admin/js/dashboard.min.js?ver=5.4.9 HTTP/1.1\" 200 2687 \"http://localhost/wp-admin/\" \"Mozilla/5.0 (Windows NT 10.0; Win64; x64) AppleWebKit/537.36 (KHTML, like Gecko) Chrome/97.0.4692.99 Safari/537.36\"\n",
      "172.19.0.1 - - [26/Jan/2022:17:38:05 +0000] \"GET /wp-includes/js/thickbox/thickbox.js?ver=3.1-20121105 HTTP/1.1\" 200 4348 \"http://localhost/wp-admin/\" \"Mozilla/5.0 (Windows NT 10.0; Win64; x64) AppleWebKit/537.36 (KHTML, like Gecko) Chrome/97.0.4692.99 Safari/537.36\"\n",
      "172.19.0.1 - - [26/Jan/2022:17:38:05 +0000] \"GET /wp-admin/js/plugin-install.min.js?ver=5.4.9 HTTP/1.1\" 200 1367 \"http://localhost/wp-admin/\" \"Mozilla/5.0 (Windows NT 10.0; Win64; x64) AppleWebKit/537.36 (KHTML, like Gecko) Chrome/97.0.4692.99 Safari/537.36\"\n",
      "172.19.0.1 - - [26/Jan/2022:17:38:05 +0000] \"GET /wp-includes/js/wp-sanitize.min.js?ver=5.4.9 HTTP/1.1\" 200 631 \"http://localhost/wp-admin/\" \"Mozilla/5.0 (Windows NT 10.0; Win64; x64) AppleWebKit/537.36 (KHTML, like Gecko) Chrome/97.0.4692.99 Safari/537.36\"\n",
      "172.19.0.1 - - [26/Jan/2022:17:38:05 +0000] \"GET /wp-admin/js/updates.min.js?ver=5.4.9 HTTP/1.1\" 200 7773 \"http://localhost/wp-admin/\" \"Mozilla/5.0 (Windows NT 10.0; Win64; x64) AppleWebKit/537.36 (KHTML, like Gecko) Chrome/97.0.4692.99 Safari/537.36\"\n",
      "172.19.0.1 - - [26/Jan/2022:17:38:05 +0000] \"GET /wp-includes/js/shortcode.min.js?ver=5.4.9 HTTP/1.1\" 200 1491 \"http://localhost/wp-admin/\" \"Mozilla/5.0 (Windows NT 10.0; Win64; x64) AppleWebKit/537.36 (KHTML, like Gecko) Chrome/97.0.4692.99 Safari/537.36\"\n",
      "172.19.0.1 - - [26/Jan/2022:17:38:05 +0000] \"GET /wp-admin/js/media-upload.min.js?ver=5.4.9 HTTP/1.1\" 200 957 \"http://localhost/wp-admin/\" \"Mozilla/5.0 (Windows NT 10.0; Win64; x64) AppleWebKit/537.36 (KHTML, like Gecko) Chrome/97.0.4692.99 Safari/537.36\"\n",
      "172.19.0.1 - - [26/Jan/2022:17:38:05 +0000] \"GET /wp-admin/js/svg-painter.js?ver=5.4.9 HTTP/1.1\" 200 2473 \"http://localhost/wp-admin/\" \"Mozilla/5.0 (Windows NT 10.0; Win64; x64) AppleWebKit/537.36 (KHTML, like Gecko) Chrome/97.0.4692.99 Safari/537.36\"\n",
      "172.19.0.1 - - [26/Jan/2022:17:38:05 +0000] \"GET /wp-includes/js/dist/hooks.min.js?ver=bb80a0ebca8478ae3a8dd5c4411e6165 HTTP/1.1\" 200 2532 \"http://localhost/wp-admin/\" \"Mozilla/5.0 (Windows NT 10.0; Win64; x64) AppleWebKit/537.36 (KHTML, like Gecko) Chrome/97.0.4692.99 Safari/537.36\"\n",
      "172.19.0.1 - - [26/Jan/2022:17:38:05 +0000] \"GET /wp-includes/js/heartbeat.min.js?ver=5.4.9 HTTP/1.1\" 200 2372 \"http://localhost/wp-admin/\" \"Mozilla/5.0 (Windows NT 10.0; Win64; x64) AppleWebKit/537.36 (KHTML, like Gecko) Chrome/97.0.4692.99 Safari/537.36\"\n",
      "172.19.0.1 - - [26/Jan/2022:17:38:05 +0000] \"GET /wp-includes/js/wp-auth-check.min.js?ver=5.4.9 HTTP/1.1\" 200 1153 \"http://localhost/wp-admin/\" \"Mozilla/5.0 (Windows NT 10.0; Win64; x64) AppleWebKit/537.36 (KHTML, like Gecko) Chrome/97.0.4692.99 Safari/537.36\"\n",
      "172.19.0.1 - - [26/Jan/2022:17:38:05 +0000] \"GET /wp-includes/js/wplink.min.js?ver=5.4.9 HTTP/1.1\" 200 4237 \"http://localhost/wp-admin/\" \"Mozilla/5.0 (Windows NT 10.0; Win64; x64) AppleWebKit/537.36 (KHTML, like Gecko) Chrome/97.0.4692.99 Safari/537.36\"\n",
      "172.19.0.1 - - [26/Jan/2022:17:38:05 +0000] \"GET /wp-includes/js/jquery/ui/position.min.js?ver=1.11.4 HTTP/1.1\" 200 2820 \"http://localhost/wp-admin/\" \"Mozilla/5.0 (Windows NT 10.0; Win64; x64) AppleWebKit/537.36 (KHTML, like Gecko) Chrome/97.0.4692.99 Safari/537.36\"\n",
      "172.19.0.1 - - [26/Jan/2022:17:38:05 +0000] \"GET /wp-includes/js/jquery/ui/menu.min.js?ver=1.11.4 HTTP/1.1\" 200 3156 \"http://localhost/wp-admin/\" \"Mozilla/5.0 (Windows NT 10.0; Win64; x64) AppleWebKit/537.36 (KHTML, like Gecko) Chrome/97.0.4692.99 Safari/537.36\"\n",
      "172.19.0.1 - - [26/Jan/2022:17:38:05 +0000] \"GET /wp-includes/js/jquery/ui/autocomplete.min.js?ver=1.11.4 HTTP/1.1\" 200 3125 \"http://localhost/wp-admin/\" \"Mozilla/5.0 (Windows NT 10.0; Win64; x64) AppleWebKit/537.36 (KHTML, like Gecko) Chrome/97.0.4692.99 Safari/537.36\"\n",
      "172.19.0.1 - - [26/Jan/2022:17:38:05 +0000] \"GET /wp-includes/js/wp-emoji-release.min.js?ver=5.4.9 HTTP/1.1\" 200 4997 \"http://localhost/wp-admin/\" \"Mozilla/5.0 (Windows NT 10.0; Win64; x64) AppleWebKit/537.36 (KHTML, like Gecko) Chrome/97.0.4692.99 Safari/537.36\"\n",
      "172.19.0.1 - - [26/Jan/2022:17:38:05 +0000] \"GET /wp-includes/js/thickbox/loadingAnimation.gif HTTP/1.1\" 200 15525 \"http://localhost/wp-admin/\" \"Mozilla/5.0 (Windows NT 10.0; Win64; x64) AppleWebKit/537.36 (KHTML, like Gecko) Chrome/97.0.4692.99 Safari/537.36\"\n",
      "127.0.0.1 - - [26/Jan/2022:17:38:05 +0000] \"POST /wp-cron.php?doing_wp_cron=1643218685.3856720924377441406250 HTTP/1.1\" 200 191 \"http://localhost/wp-cron.php?doing_wp_cron=1643218685.3856720924377441406250\" \"WordPress/5.4.9; http://localhost\"\n",
      "127.0.0.1 - - [26/Jan/2022:17:38:05 +0000] \"POST /wp-cron.php?doing_wp_cron=1643218685.3861041069030761718750 HTTP/1.1\" 200 191 \"http://localhost/wp-cron.php?doing_wp_cron=1643218685.3861041069030761718750\" \"WordPress/5.4.9; http://localhost\"\n",
      "172.19.0.1 - - [26/Jan/2022:17:38:05 +0000] \"GET /wp-admin/admin-ajax.php?action=wp-compression-test&test=1&_ajax_nonce=b03db5b1e7&1643218687591 HTTP/1.1\" 200 1137 \"http://localhost/wp-admin/\" \"Mozilla/5.0 (Windows NT 10.0; Win64; x64) AppleWebKit/537.36 (KHTML, like Gecko) Chrome/97.0.4692.99 Safari/537.36\"\n",
      "172.19.0.1 - - [26/Jan/2022:17:38:05 +0000] \"GET /wp-admin/admin-ajax.php?action=wp-compression-test&test=no&_ajax_nonce=b03db5b1e7&1643218688026 HTTP/1.1\" 200 469 \"http://localhost/wp-admin/\" \"Mozilla/5.0 (Windows NT 10.0; Win64; x64) AppleWebKit/537.36 (KHTML, like Gecko) Chrome/97.0.4692.99 Safari/537.36\"\n",
      "172.19.0.1 - - [26/Jan/2022:17:38:05 +0000] \"POST /wp-admin/admin-ajax.php HTTP/1.1\" 200 649 \"http://localhost/wp-admin/\" \"Mozilla/5.0 (Windows NT 10.0; Win64; x64) AppleWebKit/537.36 (KHTML, like Gecko) Chrome/97.0.4692.99 Safari/537.36\"\n",
      "172.19.0.1 - - [26/Jan/2022:17:38:05 +0000] \"GET /wp-admin/admin-ajax.php?action=dashboard-widgets&widget=dashboard_primary&pagenow=dashboard HTTP/1.1\" 200 866 \"http://localhost/wp-admin/\" \"Mozilla/5.0 (Windows NT 10.0; Win64; x64) AppleWebKit/537.36 (KHTML, like Gecko) Chrome/97.0.4692.99 Safari/537.36\"\n",
      "127.0.0.1 - - [26/Jan/2022:17:38:16 +0000] \"OPTIONS * HTTP/1.0\" 200 126 \"-\" \"Apache/2.4.38 (Debian) PHP/7.4.9 (internal dummy connection)\"\n",
      "172.19.0.1 - - [26/Jan/2022:17:38:51 +0000] \"GET /wp-admin/customize.php HTTP/1.1\" 200 56081 \"http://localhost/wp-admin/\" \"Mozilla/5.0 (Windows NT 10.0; Win64; x64) AppleWebKit/537.36 (KHTML, like Gecko) Chrome/97.0.4692.99 Safari/537.36\"\n",
      "172.19.0.1 - - [26/Jan/2022:17:38:52 +0000] \"GET /wp-includes/js/imgareaselect/imgareaselect.css?ver=0.9.8 HTTP/1.1\" 200 601 \"http://localhost/wp-admin/customize.php\" \"Mozilla/5.0 (Windows NT 10.0; Win64; x64) AppleWebKit/537.36 (KHTML, like Gecko) Chrome/97.0.4692.99 Safari/537.36\"\n",
      "172.19.0.1 - - [26/Jan/2022:17:38:52 +0000] \"GET /wp-includes/js/mediaelement/wp-mediaelement.min.css?ver=5.4.9 HTTP/1.1\" 200 1494 \"http://localhost/wp-admin/customize.php\" \"Mozilla/5.0 (Windows NT 10.0; Win64; x64) AppleWebKit/537.36 (KHTML, like Gecko) Chrome/97.0.4692.99 Safari/537.36\"\n",
      "172.19.0.1 - - [26/Jan/2022:17:38:52 +0000] \"GET /wp-includes/js/mediaelement/mediaelementplayer-legacy.min.css?ver=4.2.13-9993131 HTTP/1.1\" 200 2937 \"http://localhost/wp-admin/customize.php\" \"Mozilla/5.0 (Windows NT 10.0; Win64; x64) AppleWebKit/537.36 (KHTML, like Gecko) Chrome/97.0.4692.99 Safari/537.36\"\n",
      "172.19.0.1 - - [26/Jan/2022:17:38:52 +0000] \"GET /wp-admin/load-styles.php?c=0&dir=ltr&load%5Bchunk_0%5D=dashicons,common,forms,admin-menu,dashboard,list-tables,edit,revisions,media,themes,about,nav-menus,wp-pointer,widgets,site-icon&load%5Bchunk_1%5D=,l10n,buttons,customize-controls,customize-widgets,customize-nav-menus,media-views,wp-color-picker,code-editor&ver=5.4.9 HTTP/1.1\" 200 105166 \"http://localhost/wp-admin/customize.php\" \"Mozilla/5.0 (Windows NT 10.0; Win64; x64) AppleWebKit/537.36 (KHTML, like Gecko) Chrome/97.0.4692.99 Safari/537.36\"\n",
      "172.19.0.1 - - [26/Jan/2022:17:38:52 +0000] \"GET /wp-includes/js/codemirror/codemirror.min.css?ver=5.29.1-alpha-ee20357 HTTP/1.1\" 200 4670 \"http://localhost/wp-admin/customize.php\" \"Mozilla/5.0 (Windows NT 10.0; Win64; x64) AppleWebKit/537.36 (KHTML, like Gecko) Chrome/97.0.4692.99 Safari/537.36\"\n",
      "172.19.0.1 - - [26/Jan/2022:17:38:52 +0000] \"GET /wp-includes/js/customize-base.min.js?ver=5.4.9 HTTP/1.1\" 200 2847 \"http://localhost/wp-admin/customize.php\" \"Mozilla/5.0 (Windows NT 10.0; Win64; x64) AppleWebKit/537.36 (KHTML, like Gecko) Chrome/97.0.4692.99 Safari/537.36\"\n",
      "172.19.0.1 - - [26/Jan/2022:17:38:52 +0000] \"GET /wp-includes/js/wp-util.min.js?ver=5.4.9 HTTP/1.1\" 200 938 \"http://localhost/wp-admin/customize.php\" \"Mozilla/5.0 (Windows NT 10.0; Win64; x64) AppleWebKit/537.36 (KHTML, like Gecko) Chrome/97.0.4692.99 Safari/537.36\"\n",
      "172.19.0.1 - - [26/Jan/2022:17:38:52 +0000] \"GET /wp-includes/js/dist/dom-ready.min.js?ver=93db39f6fe07a70cb9217310bec0a531 HTTP/1.1\" 200 949 \"http://localhost/wp-admin/customize.php\" \"Mozilla/5.0 (Windows NT 10.0; Win64; x64) AppleWebKit/537.36 (KHTML, like Gecko) Chrome/97.0.4692.99 Safari/537.36\"\n",
      "172.19.0.1 - - [26/Jan/2022:17:38:52 +0000] \"GET /wp-includes/js/jquery/ui/draggable.min.js?ver=1.11.4 HTTP/1.1\" 200 5301 \"http://localhost/wp-admin/customize.php\" \"Mozilla/5.0 (Windows NT 10.0; Win64; x64) AppleWebKit/537.36 (KHTML, like Gecko) Chrome/97.0.4692.99 Safari/537.36\"\n",
      "172.19.0.1 - - [26/Jan/2022:17:38:52 +0000] \"GET /wp-includes/js/dist/a11y.min.js?ver=8d75be94e0703857a3323c972eb3d7d2 HTTP/1.1\" 200 1380 \"http://localhost/wp-admin/customize.php\" \"Mozilla/5.0 (Windows NT 10.0; Win64; x64) AppleWebKit/537.36 (KHTML, like Gecko) Chrome/97.0.4692.99 Safari/537.36\"\n",
      "172.19.0.1 - - [26/Jan/2022:17:38:52 +0000] \"GET /wp-admin/load-styles.php?c=0&dir=ltr&load%5Bchunk_0%5D=editor-buttons&ver=5.4.9 HTTP/1.1\" 200 6323 \"http://localhost/wp-admin/customize.php\" \"Mozilla/5.0 (Windows NT 10.0; Win64; x64) AppleWebKit/537.36 (KHTML, like Gecko) Chrome/97.0.4692.99 Safari/537.36\"\n",
      "172.19.0.1 - - [26/Jan/2022:17:38:52 +0000] \"GET /wp-admin/js/customize-controls.min.js?ver=5.4.9 HTTP/1.1\" 200 28523 \"http://localhost/wp-admin/customize.php\" \"Mozilla/5.0 (Windows NT 10.0; Win64; x64) AppleWebKit/537.36 (KHTML, like Gecko) Chrome/97.0.4692.99 Safari/537.36\"\n",
      "172.19.0.1 - - [26/Jan/2022:17:38:52 +0000] \"GET /wp-admin/load-scripts.php?c=0&load%5Bchunk_0%5D=jquery-core,jquery-migrate&ver=5.4.9 HTTP/1.1\" 200 37609 \"http://localhost/wp-admin/customize.php\" \"Mozilla/5.0 (Windows NT 10.0; Win64; x64) AppleWebKit/537.36 (KHTML, like Gecko) Chrome/97.0.4692.99 Safari/537.36\"\n",
      "172.19.0.1 - - [26/Jan/2022:17:38:52 +0000] \"GET /wp-includes/js/jquery/ui/core.min.js?ver=1.11.4 HTTP/1.1\" 200 2161 \"http://localhost/wp-admin/customize.php\" \"Mozilla/5.0 (Windows NT 10.0; Win64; x64) AppleWebKit/537.36 (KHTML, like Gecko) Chrome/97.0.4692.99 Safari/537.36\"\n",
      "172.19.0.1 - - [26/Jan/2022:17:38:52 +0000] \"GET /wp-includes/js/jquery/ui/droppable.min.js?ver=1.11.4 HTTP/1.1\" 200 2302 \"http://localhost/wp-admin/customize.php\" \"Mozilla/5.0 (Windows NT 10.0; Win64; x64) AppleWebKit/537.36 (KHTML, like Gecko) Chrome/97.0.4692.99 Safari/537.36\"\n",
      "172.19.0.1 - - [26/Jan/2022:17:38:52 +0000] \"GET /wp-includes/js/backbone.min.js?ver=1.4.0 HTTP/1.1\" 200 8238 \"http://localhost/wp-admin/customize.php\" \"Mozilla/5.0 (Windows NT 10.0; Win64; x64) AppleWebKit/537.36 (KHTML, like Gecko) Chrome/97.0.4692.99 Safari/537.36\"\n",
      "172.19.0.1 - - [26/Jan/2022:17:38:52 +0000] \"GET /wp-includes/js/wp-backbone.min.js?ver=5.4.9 HTTP/1.1\" 200 1526 \"http://localhost/wp-admin/customize.php\" \"Mozilla/5.0 (Windows NT 10.0; Win64; x64) AppleWebKit/537.36 (KHTML, like Gecko) Chrome/97.0.4692.99 Safari/537.36\"\n",
      "172.19.0.1 - - [26/Jan/2022:17:38:52 +0000] \"GET /wp-includes/js/jquery/ui/widget.min.js?ver=1.11.4 HTTP/1.1\" 200 2894 \"http://localhost/wp-admin/customize.php\" \"Mozilla/5.0 (Windows NT 10.0; Win64; x64) AppleWebKit/537.36 (KHTML, like Gecko) Chrome/97.0.4692.99 Safari/537.36\"\n",
      "172.19.0.1 - - [26/Jan/2022:17:38:52 +0000] \"GET /wp-includes/js/jquery/ui/mouse.min.js?ver=1.11.4 HTTP/1.1\" 200 1340 \"http://localhost/wp-admin/customize.php\" \"Mozilla/5.0 (Windows NT 10.0; Win64; x64) AppleWebKit/537.36 (KHTML, like Gecko) Chrome/97.0.4692.99 Safari/537.36\"\n",
      "172.19.0.1 - - [26/Jan/2022:17:38:52 +0000] \"GET /wp-includes/js/utils.min.js?ver=5.4.9 HTTP/1.1\" 200 1177 \"http://localhost/wp-admin/customize.php\" \"Mozilla/5.0 (Windows NT 10.0; Win64; x64) AppleWebKit/537.36 (KHTML, like Gecko) Chrome/97.0.4692.99 Safari/537.36\"\n",
      "172.19.0.1 - - [26/Jan/2022:17:38:52 +0000] \"GET /wp-admin/js/nav-menu.min.js?ver=5.4.9 HTTP/1.1\" 200 6649 \"http://localhost/wp-admin/customize.php\" \"Mozilla/5.0 (Windows NT 10.0; Win64; x64) AppleWebKit/537.36 (KHTML, like Gecko) Chrome/97.0.4692.99 Safari/537.36\"\n",
      "172.19.0.1 - - [26/Jan/2022:17:38:52 +0000] \"GET /wp-includes/js/jquery/ui/sortable.min.js?ver=1.11.4 HTTP/1.1\" 200 6776 \"http://localhost/wp-admin/customize.php\" \"Mozilla/5.0 (Windows NT 10.0; Win64; x64) AppleWebKit/537.36 (KHTML, like Gecko) Chrome/97.0.4692.99 Safari/537.36\"\n",
      "172.19.0.1 - - [26/Jan/2022:17:38:52 +0000] \"GET /wp-includes/js/media-models.min.js?ver=5.4.9 HTTP/1.1\" 200 4765 \"http://localhost/wp-admin/customize.php\" \"Mozilla/5.0 (Windows NT 10.0; Win64; x64) AppleWebKit/537.36 (KHTML, like Gecko) Chrome/97.0.4692.99 Safari/537.36\"\n",
      "172.19.0.1 - - [26/Jan/2022:17:38:52 +0000] \"GET /wp-includes/js/plupload/wp-plupload.min.js?ver=5.4.9 HTTP/1.1\" 200 2551 \"http://localhost/wp-admin/customize.php\" \"Mozilla/5.0 (Windows NT 10.0; Win64; x64) AppleWebKit/537.36 (KHTML, like Gecko) Chrome/97.0.4692.99 Safari/537.36\"\n",
      "172.19.0.1 - - [26/Jan/2022:17:38:52 +0000] \"GET /wp-includes/js/plupload/plupload.min.js?ver=2.1.9 HTTP/1.1\" 200 5939 \"http://localhost/wp-admin/customize.php\" \"Mozilla/5.0 (Windows NT 10.0; Win64; x64) AppleWebKit/537.36 (KHTML, like Gecko) Chrome/97.0.4692.99 Safari/537.36\"\n",
      "172.19.0.1 - - [26/Jan/2022:17:38:52 +0000] \"GET /wp-includes/js/plupload/moxie.min.js?ver=1.3.5 HTTP/1.1\" 200 27847 \"http://localhost/wp-admin/customize.php\" \"Mozilla/5.0 (Windows NT 10.0; Win64; x64) AppleWebKit/537.36 (KHTML, like Gecko) Chrome/97.0.4692.99 Safari/537.36\"\n",
      "172.19.0.1 - - [26/Jan/2022:17:38:52 +0000] \"GET /wp-includes/js/mediaelement/mediaelement-migrate.min.js?ver=5.4.9 HTTP/1.1\" 200 893 \"http://localhost/wp-admin/customize.php\" \"Mozilla/5.0 (Windows NT 10.0; Win64; x64) AppleWebKit/537.36 (KHTML, like Gecko) Chrome/97.0.4692.99 Safari/537.36\"\n",
      "172.19.0.1 - - [26/Jan/2022:17:38:52 +0000] \"GET /wp-includes/js/mediaelement/wp-mediaelement.min.js?ver=5.4.9 HTTP/1.1\" 200 824 \"http://localhost/wp-admin/customize.php\" \"Mozilla/5.0 (Windows NT 10.0; Win64; x64) AppleWebKit/537.36 (KHTML, like Gecko) Chrome/97.0.4692.99 Safari/537.36\"\n",
      "172.19.0.1 - - [26/Jan/2022:17:38:52 +0000] \"GET /wp-includes/js/api-request.min.js?ver=5.4.9 HTTP/1.1\" 200 816 \"http://localhost/wp-admin/customize.php\" \"Mozilla/5.0 (Windows NT 10.0; Win64; x64) AppleWebKit/537.36 (KHTML, like Gecko) Chrome/97.0.4692.99 Safari/537.36\"\n",
      "172.19.0.1 - - [26/Jan/2022:17:38:52 +0000] \"GET /wp-includes/js/wp-ajax-response.min.js?ver=5.4.9 HTTP/1.1\" 200 1333 \"http://localhost/wp-admin/customize.php\" \"Mozilla/5.0 (Windows NT 10.0; Win64; x64) AppleWebKit/537.36 (KHTML, like Gecko) Chrome/97.0.4692.99 Safari/537.36\"\n",
      "172.19.0.1 - - [26/Jan/2022:17:38:52 +0000] \"GET /wp-includes/js/mediaelement/mediaelement-and-player.min.js?ver=4.2.13-9993131 HTTP/1.1\" 200 40017 \"http://localhost/wp-admin/customize.php\" \"Mozilla/5.0 (Windows NT 10.0; Win64; x64) AppleWebKit/537.36 (KHTML, like Gecko) Chrome/97.0.4692.99 Safari/537.36\""
     ]
    },
    {
     "name": "stderr",
     "output_type": "stream",
     "text": [
      "WordPress not found in /var/www/html - copying now...\n",
      "Complete! WordPress has been successfully copied to /var/www/html\n",
      "AH00558: apache2: Could not reliably determine the server's fully qualified domain name, using 172.19.0.4. Set the 'ServerName' directive globally to suppress this message\n",
      "AH00558: apache2: Could not reliably determine the server's fully qualified domain name, using 172.19.0.4. Set the 'ServerName' directive globally to suppress this message\n",
      "[Wed Jan 26 17:29:39.525536 2022] [mpm_prefork:notice] [pid 1] AH00163: Apache/2.4.38 (Debian) PHP/7.4.9 configured -- resuming normal operations\n",
      "[Wed Jan 26 17:29:39.525790 2022] [core:notice] [pid 1] AH00094: Command line: 'apache2 -D FOREGROUND'\n",
      "[Wed Jan 26 17:31:06.246660 2022] [php7:notice] [pid 37] [client 172.19.0.1:33086] WordPress database error Unknown column 'wp_' in 'field list' for query SELECT wp_, referer: http://localhost/wp-admin/setup-config.php?step=1\n",
      "sh: 1: /usr/sbin/sendmail: not found\n",
      "sh: 1: /usr/sbin/sendmail: not found\n",
      "[Wed Jan 26 17:46:03.926956 2022] [mpm_prefork:notice] [pid 1] AH00170: caught SIGWINCH, shutting down gracefully\n"
     ]
    },
    {
     "name": "stdout",
     "output_type": "stream",
     "text": [
      "\n",
      "172.19.0.1 - - [26/Jan/2022:17:38:52 +0000] \"GET /wp-includes/js/media-editor.min.js?ver=5.4.9 HTTP/1.1\" 200 3931 \"http://localhost/wp-admin/customize.php\" \"Mozilla/5.0 (Windows NT 10.0; Win64; x64) AppleWebKit/537.36 (KHTML, like Gecko) Chrome/97.0.4692.99 Safari/537.36\"\n",
      "172.19.0.1 - - [26/Jan/2022:17:38:52 +0000] \"GET /wp-includes/js/wp-lists.min.js?ver=5.4.9 HTTP/1.1\" 200 2871 \"http://localhost/wp-admin/customize.php\" \"Mozilla/5.0 (Windows NT 10.0; Win64; x64) AppleWebKit/537.36 (KHTML, like Gecko) Chrome/97.0.4692.99 Safari/537.36\"\n",
      "172.19.0.1 - - [26/Jan/2022:17:38:52 +0000] \"GET /wp-includes/js/media-audiovideo.min.js?ver=5.4.9 HTTP/1.1\" 200 3949 \"http://localhost/wp-admin/customize.php\" \"Mozilla/5.0 (Windows NT 10.0; Win64; x64) AppleWebKit/537.36 (KHTML, like Gecko) Chrome/97.0.4692.99 Safari/537.36\"\n",
      "172.19.0.1 - - [26/Jan/2022:17:38:52 +0000] \"GET /wp-includes/js/jquery/ui/slider.min.js?ver=1.11.4 HTTP/1.1\" 200 3404 \"http://localhost/wp-admin/customize.php\" \"Mozilla/5.0 (Windows NT 10.0; Win64; x64) AppleWebKit/537.36 (KHTML, like Gecko) Chrome/97.0.4692.99 Safari/537.36\"\n",
      "172.19.0.1 - - [26/Jan/2022:17:38:52 +0000] \"GET /wp-includes/js/media-views.min.js?ver=5.4.9 HTTP/1.1\" 200 24382 \"http://localhost/wp-admin/customize.php\" \"Mozilla/5.0 (Windows NT 10.0; Win64; x64) AppleWebKit/537.36 (KHTML, like Gecko) Chrome/97.0.4692.99 Safari/537.36\"\n",
      "172.19.0.1 - - [26/Jan/2022:17:38:52 +0000] \"GET /wp-includes/js/jquery/jquery.ui.touch-punch.js?ver=0.2.2 HTTP/1.1\" 200 934 \"http://localhost/wp-admin/customize.php\" \"Mozilla/5.0 (Windows NT 10.0; Win64; x64) AppleWebKit/537.36 (KHTML, like Gecko) Chrome/97.0.4692.99 Safari/537.36\"\n",
      "172.19.0.1 - - [26/Jan/2022:17:38:52 +0000] \"GET /wp-admin/js/iris.min.js?ver=1.0.7 HTTP/1.1\" 200 8432 \"http://localhost/wp-admin/customize.php\" \"Mozilla/5.0 (Windows NT 10.0; Win64; x64) AppleWebKit/537.36 (KHTML, like Gecko) Chrome/97.0.4692.99 Safari/537.36\"\n",
      "172.19.0.1 - - [26/Jan/2022:17:38:52 +0000] \"GET /wp-admin/js/postbox.min.js?ver=5.4.9 HTTP/1.1\" 200 1926 \"http://localhost/wp-admin/customize.php\" \"Mozilla/5.0 (Windows NT 10.0; Win64; x64) AppleWebKit/537.36 (KHTML, like Gecko) Chrome/97.0.4692.99 Safari/537.36\"\n",
      "172.19.0.1 - - [26/Jan/2022:17:38:52 +0000] \"GET /wp-admin/js/color-picker.min.js?ver=5.4.9 HTTP/1.1\" 200 1541 \"http://localhost/wp-admin/customize.php\" \"Mozilla/5.0 (Windows NT 10.0; Win64; x64) AppleWebKit/537.36 (KHTML, like Gecko) Chrome/97.0.4692.99 Safari/537.36\"\n",
      "172.19.0.1 - - [26/Jan/2022:17:38:52 +0000] \"GET /wp-admin/js/code-editor.min.js?ver=5.4.9 HTTP/1.1\" 200 1654 \"http://localhost/wp-admin/customize.php\" \"Mozilla/5.0 (Windows NT 10.0; Win64; x64) AppleWebKit/537.36 (KHTML, like Gecko) Chrome/97.0.4692.99 Safari/537.36\"\n",
      "172.19.0.1 - - [26/Jan/2022:17:38:52 +0000] \"GET /wp-content/themes/twentytwenty/assets/js/customize.js?ver=1.2 HTTP/1.1\" 200 757 \"http://localhost/wp-admin/customize.php\" \"Mozilla/5.0 (Windows NT 10.0; Win64; x64) AppleWebKit/537.36 (KHTML, like Gecko) Chrome/97.0.4692.99 Safari/537.36\"\n",
      "172.19.0.1 - - [26/Jan/2022:17:38:52 +0000] \"GET /wp-content/themes/twentytwenty/assets/js/color-calculations.js?ver=1.2 HTTP/1.1\" 200 1838 \"http://localhost/wp-admin/customize.php\" \"Mozilla/5.0 (Windows NT 10.0; Win64; x64) AppleWebKit/537.36 (KHTML, like Gecko) Chrome/97.0.4692.99 Safari/537.36\"\n",
      "172.19.0.1 - - [26/Jan/2022:17:38:52 +0000] \"GET /wp-includes/js/shortcode.min.js?ver=5.4.9 HTTP/1.1\" 200 1491 \"http://localhost/wp-admin/customize.php\" \"Mozilla/5.0 (Windows NT 10.0; Win64; x64) AppleWebKit/537.36 (KHTML, like Gecko) Chrome/97.0.4692.99 Safari/537.36\"\n",
      "172.19.0.1 - - [26/Jan/2022:17:38:52 +0000] \"GET /wp-content/themes/twentytwenty/assets/js/customize-controls.js?ver=1.2 HTTP/1.1\" 200 1378 \"http://localhost/wp-admin/customize.php\" \"Mozilla/5.0 (Windows NT 10.0; Win64; x64) AppleWebKit/537.36 (KHTML, like Gecko) Chrome/97.0.4692.99 Safari/537.36\"\n",
      "172.19.0.1 - - [26/Jan/2022:17:38:52 +0000] \"GET /wp-admin/js/widgets/media-audio-widget.min.js?ver=5.4.9 HTTP/1.1\" 200 1034 \"http://localhost/wp-admin/customize.php\" \"Mozilla/5.0 (Windows NT 10.0; Win64; x64) AppleWebKit/537.36 (KHTML, like Gecko) Chrome/97.0.4692.99 Safari/537.36\"\n",
      "172.19.0.1 - - [26/Jan/2022:17:38:52 +0000] \"GET /wp-admin/js/widgets/media-widgets.min.js?ver=5.4.9 HTTP/1.1\" 200 4989 \"http://localhost/wp-admin/customize.php\" \"Mozilla/5.0 (Windows NT 10.0; Win64; x64) AppleWebKit/537.36 (KHTML, like Gecko) Chrome/97.0.4692.99 Safari/537.36\"\n",
      "172.19.0.1 - - [26/Jan/2022:17:38:52 +0000] \"GET /wp-admin/js/widgets/media-image-widget.min.js?ver=5.4.9 HTTP/1.1\" 200 1190 \"http://localhost/wp-admin/customize.php\" \"Mozilla/5.0 (Windows NT 10.0; Win64; x64) AppleWebKit/537.36 (KHTML, like Gecko) Chrome/97.0.4692.99 Safari/537.36\"\n",
      "172.19.0.1 - - [26/Jan/2022:17:38:52 +0000] \"GET /wp-admin/js/widgets/media-gallery-widget.min.js?ver=5.4.9 HTTP/1.1\" 200 1579 \"http://localhost/wp-admin/customize.php\" \"Mozilla/5.0 (Windows NT 10.0; Win64; x64) AppleWebKit/537.36 (KHTML, like Gecko) Chrome/97.0.4692.99 Safari/537.36\"\n",
      "172.19.0.1 - - [26/Jan/2022:17:38:52 +0000] \"GET /wp-admin/js/widgets/media-video-widget.min.js?ver=5.4.9 HTTP/1.1\" 200 1513 \"http://localhost/wp-admin/customize.php\" \"Mozilla/5.0 (Windows NT 10.0; Win64; x64) AppleWebKit/537.36 (KHTML, like Gecko) Chrome/97.0.4692.99 Safari/537.36\"\n",
      "172.19.0.1 - - [26/Jan/2022:17:38:52 +0000] \"GET /wp-admin/js/editor.min.js?ver=5.4.9 HTTP/1.1\" 200 5094 \"http://localhost/wp-admin/customize.php\" \"Mozilla/5.0 (Windows NT 10.0; Win64; x64) AppleWebKit/537.36 (KHTML, like Gecko) Chrome/97.0.4692.99 Safari/537.36\"\n",
      "172.19.0.1 - - [26/Jan/2022:17:38:52 +0000] \"GET /wp-admin/js/widgets/text-widgets.min.js?ver=5.4.9 HTTP/1.1\" 200 2384 \"http://localhost/wp-admin/customize.php\" \"Mozilla/5.0 (Windows NT 10.0; Win64; x64) AppleWebKit/537.36 (KHTML, like Gecko) Chrome/97.0.4692.99 Safari/537.36\"\n",
      "172.19.0.1 - - [26/Jan/2022:17:38:52 +0000] \"GET /wp-includes/js/codemirror/htmlhint.js?ver=0.9.14-xwp HTTP/1.1\" 200 6055 \"http://localhost/wp-admin/customize.php\" \"Mozilla/5.0 (Windows NT 10.0; Win64; x64) AppleWebKit/537.36 (KHTML, like Gecko) Chrome/97.0.4692.99 Safari/537.36\"\n",
      "172.19.0.1 - - [26/Jan/2022:17:38:52 +0000] \"GET /wp-includes/js/codemirror/fakejshint.js?ver=2.9.5 HTTP/1.1\" 200 868 \"http://localhost/wp-admin/customize.php\" \"Mozilla/5.0 (Windows NT 10.0; Win64; x64) AppleWebKit/537.36 (KHTML, like Gecko) Chrome/97.0.4692.99 Safari/537.36\"\n",
      "172.19.0.1 - - [26/Jan/2022:17:38:52 +0000] \"GET /wp-admin/js/widgets/custom-html-widgets.min.js?ver=5.4.9 HTTP/1.1\" 200 2269 \"http://localhost/wp-admin/customize.php\" \"Mozilla/5.0 (Windows NT 10.0; Win64; x64) AppleWebKit/537.36 (KHTML, like Gecko) Chrome/97.0.4692.99 Safari/537.36\"\n",
      "172.19.0.1 - - [26/Jan/2022:17:38:52 +0000] \"GET /wp-includes/js/dist/i18n.min.js?ver=526cadb8371e147b94b51de08c0e6167 HTTP/1.1\" 200 3930 \"http://localhost/wp-admin/customize.php\" \"Mozilla/5.0 (Windows NT 10.0; Win64; x64) AppleWebKit/537.36 (KHTML, like Gecko) Chrome/97.0.4692.99 Safari/537.36\"\n",
      "172.19.0.1 - - [26/Jan/2022:17:38:52 +0000] \"GET /wp-includes/js/codemirror/csslint.js?ver=1.0.5 HTTP/1.1\" 200 67304 \"http://localhost/wp-admin/customize.php\" \"Mozilla/5.0 (Windows NT 10.0; Win64; x64) AppleWebKit/537.36 (KHTML, like Gecko) Chrome/97.0.4692.99 Safari/537.36\"\n",
      "172.19.0.1 - - [26/Jan/2022:17:38:52 +0000] \"GET /wp-includes/js/tinymce/plugins/compat3x/plugin.min.js?ver=4960-20190918 HTTP/1.1\" 200 2090 \"http://localhost/wp-admin/customize.php\" \"Mozilla/5.0 (Windows NT 10.0; Win64; x64) AppleWebKit/537.36 (KHTML, like Gecko) Chrome/97.0.4692.99 Safari/537.36\"\n",
      "172.19.0.1 - - [26/Jan/2022:17:38:52 +0000] \"GET /wp-includes/js/codemirror/esprima.js?ver=4.0.0 HTTP/1.1\" 200 44533 \"http://localhost/wp-admin/customize.php\" \"Mozilla/5.0 (Windows NT 10.0; Win64; x64) AppleWebKit/537.36 (KHTML, like Gecko) Chrome/97.0.4692.99 Safari/537.36\"\n",
      "172.19.0.1 - - [26/Jan/2022:17:38:52 +0000] \"GET /wp-includes/js/codemirror/codemirror.min.js?ver=5.29.1-alpha-ee20357 HTTP/1.1\" 200 182413 \"http://localhost/wp-admin/customize.php\" \"Mozilla/5.0 (Windows NT 10.0; Win64; x64) AppleWebKit/537.36 (KHTML, like Gecko) Chrome/97.0.4692.99 Safari/537.36\"\n",
      "172.19.0.1 - - [26/Jan/2022:17:38:52 +0000] \"GET /wp-admin/load-scripts.php?c=0&load%5Bchunk_0%5D=wp-hooks,heartbeat,customize-widgets,accordion,wp-sanitize,customize-nav-menus,imgareaselect,customize-models,customize-views,mc&load%5Bchunk_1%5D=e-view,image-edit,updates,quicktags,wplink,jquery-ui-position,jquery-ui-menu,jquery-ui-autocomplete,thickbox,media-upload&ver=5.4.9 HTTP/1.1\" 200 60825 \"http://localhost/wp-admin/customize.php\" \"Mozilla/5.0 (Windows NT 10.0; Win64; x64) AppleWebKit/537.36 (KHTML, like Gecko) Chrome/97.0.4692.99 Safari/537.36\"\n",
      "172.19.0.1 - - [26/Jan/2022:17:38:52 +0000] \"GET /wp-includes/js/tinymce/tinymce.min.js?ver=4960-20190918 HTTP/1.1\" 200 124365 \"http://localhost/wp-admin/customize.php\" \"Mozilla/5.0 (Windows NT 10.0; Win64; x64) AppleWebKit/537.36 (KHTML, like Gecko) Chrome/97.0.4692.99 Safari/537.36\"\n",
      "172.19.0.1 - - [26/Jan/2022:17:38:52 +0000] \"GET /wp-includes/js/wp-emoji-release.min.js?ver=5.4.9 HTTP/1.1\" 200 4997 \"http://localhost/wp-admin/customize.php\" \"Mozilla/5.0 (Windows NT 10.0; Win64; x64) AppleWebKit/537.36 (KHTML, like Gecko) Chrome/97.0.4692.99 Safari/537.36\"\n",
      "172.19.0.1 - - [26/Jan/2022:17:38:52 +0000] \"GET /wp-admin/images/arrows-2x.png HTTP/1.1\" 200 1147 \"http://localhost/wp-admin/load-styles.php?c=0&dir=ltr&load%5Bchunk_0%5D=dashicons,common,forms,admin-menu,dashboard,list-tables,edit,revisions,media,themes,about,nav-menus,wp-pointer,widgets,site-icon&load%5Bchunk_1%5D=,l10n,buttons,customize-controls,customize-widgets,customize-nav-menus,media-views,wp-color-picker,code-editor&ver=5.4.9\" \"Mozilla/5.0 (Windows NT 10.0; Win64; x64) AppleWebKit/537.36 (KHTML, like Gecko) Chrome/97.0.4692.99 Safari/537.36\"\n",
      "172.19.0.1 - - [26/Jan/2022:17:38:53 +0000] \"GET /?customize_changeset_uuid=2dc593c1-76e6-479d-af82-e8a2a19d59d3&customize_theme=twentytwenty&customize_messenger_channel=preview-0 HTTP/1.1\" 200 18567 \"http://localhost/wp-admin/customize.php\" \"Mozilla/5.0 (Windows NT 10.0; Win64; x64) AppleWebKit/537.36 (KHTML, like Gecko) Chrome/97.0.4692.99 Safari/537.36\"\n",
      "172.19.0.1 - - [26/Jan/2022:17:38:53 +0000] \"GET /wp-includes/css/customize-preview.min.css?ver=5.4.9 HTTP/1.1\" 200 1190 \"http://localhost/?customize_changeset_uuid=2dc593c1-76e6-479d-af82-e8a2a19d59d3&customize_theme=twentytwenty&customize_messenger_channel=preview-0\" \"Mozilla/5.0 (Windows NT 10.0; Win64; x64) AppleWebKit/537.36 (KHTML, like Gecko) Chrome/97.0.4692.99 Safari/537.36\"\n",
      "172.19.0.1 - - [26/Jan/2022:17:38:53 +0000] \"GET /wp-includes/css/dashicons.min.css?ver=5.4.9 HTTP/1.1\" 200 28825 \"http://localhost/?customize_changeset_uuid=2dc593c1-76e6-479d-af82-e8a2a19d59d3&customize_theme=twentytwenty&customize_messenger_channel=preview-0\" \"Mozilla/5.0 (Windows NT 10.0; Win64; x64) AppleWebKit/537.36 (KHTML, like Gecko) Chrome/97.0.4692.99 Safari/537.36\"\n",
      "172.19.0.1 - - [26/Jan/2022:17:38:53 +0000] \"GET /wp-includes/css/dist/block-library/style.min.css?ver=5.4.9 HTTP/1.1\" 200 7979 \"http://localhost/?customize_changeset_uuid=2dc593c1-76e6-479d-af82-e8a2a19d59d3&customize_theme=twentytwenty&customize_messenger_channel=preview-0\" \"Mozilla/5.0 (Windows NT 10.0; Win64; x64) AppleWebKit/537.36 (KHTML, like Gecko) Chrome/97.0.4692.99 Safari/537.36\"\n",
      "172.19.0.1 - - [26/Jan/2022:17:38:53 +0000] \"GET /wp-content/themes/twentytwenty/style.css?ver=1.2 HTTP/1.1\" 200 23116 \"http://localhost/?customize_changeset_uuid=2dc593c1-76e6-479d-af82-e8a2a19d59d3&customize_theme=twentytwenty&customize_messenger_channel=preview-0\" \"Mozilla/5.0 (Windows NT 10.0; Win64; x64) AppleWebKit/537.36 (KHTML, like Gecko) Chrome/97.0.4692.99 Safari/537.36\"\n",
      "172.19.0.1 - - [26/Jan/2022:17:38:53 +0000] \"GET /wp-includes/js/customize-preview.min.js?ver=5.4.9 HTTP/1.1\" 200 3475 \"http://localhost/?customize_changeset_uuid=2dc593c1-76e6-479d-af82-e8a2a19d59d3&customize_theme=twentytwenty&customize_messenger_channel=preview-0\" \"Mozilla/5.0 (Windows NT 10.0; Win64; x64) AppleWebKit/537.36 (KHTML, like Gecko) Chrome/97.0.4692.99 Safari/537.36\"\n",
      "172.19.0.1 - - [26/Jan/2022:17:38:53 +0000] \"GET /wp-includes/js/customize-selective-refresh.min.js?ver=5.4.9 HTTP/1.1\" 200 3973 \"http://localhost/?customize_changeset_uuid=2dc593c1-76e6-479d-af82-e8a2a19d59d3&customize_theme=twentytwenty&customize_messenger_channel=preview-0\" \"Mozilla/5.0 (Windows NT 10.0; Win64; x64) AppleWebKit/537.36 (KHTML, like Gecko) Chrome/97.0.4692.99 Safari/537.36\"\n",
      "172.19.0.1 - - [26/Jan/2022:17:38:53 +0000] \"GET /wp-content/themes/twentytwenty/assets/js/customize-preview.js?ver=1.2 HTTP/1.1\" 200 2109 \"http://localhost/?customize_changeset_uuid=2dc593c1-76e6-479d-af82-e8a2a19d59d3&customize_theme=twentytwenty&customize_messenger_channel=preview-0\" \"Mozilla/5.0 (Windows NT 10.0; Win64; x64) AppleWebKit/537.36 (KHTML, like Gecko) Chrome/97.0.4692.99 Safari/537.36\"\n",
      "172.19.0.1 - - [26/Jan/2022:17:38:53 +0000] \"GET /wp-includes/js/mediaelement/wp-playlist.min.js?ver=5.4.9 HTTP/1.1\" 200 1480 \"http://localhost/?customize_changeset_uuid=2dc593c1-76e6-479d-af82-e8a2a19d59d3&customize_theme=twentytwenty&customize_messenger_channel=preview-0\" \"Mozilla/5.0 (Windows NT 10.0; Win64; x64) AppleWebKit/537.36 (KHTML, like Gecko) Chrome/97.0.4692.99 Safari/537.36\"\n",
      "172.19.0.1 - - [26/Jan/2022:17:38:53 +0000] \"GET /wp-includes/js/mediaelement/renderers/vimeo.min.js?ver=4.2.13-9993131 HTTP/1.1\" 200 2579 \"http://localhost/?customize_changeset_uuid=2dc593c1-76e6-479d-af82-e8a2a19d59d3&customize_theme=twentytwenty&customize_messenger_channel=preview-0\" \"Mozilla/5.0 (Windows NT 10.0; Win64; x64) AppleWebKit/537.36 (KHTML, like Gecko) Chrome/97.0.4692.99 Safari/537.36\"\n",
      "172.19.0.1 - - [26/Jan/2022:17:38:53 +0000] \"GET /wp-includes/js/customize-preview-widgets.min.js?ver=5.4.9 HTTP/1.1\" 200 2923 \"http://localhost/?customize_changeset_uuid=2dc593c1-76e6-479d-af82-e8a2a19d59d3&customize_theme=twentytwenty&customize_messenger_channel=preview-0\" \"Mozilla/5.0 (Windows NT 10.0; Win64; x64) AppleWebKit/537.36 (KHTML, like Gecko) Chrome/97.0.4692.99 Safari/537.36\"\n",
      "172.19.0.1 - - [26/Jan/2022:17:38:53 +0000] \"GET /wp-includes/js/wp-embed.min.js?ver=5.4.9 HTTP/1.1\" 200 1114 \"http://localhost/?customize_changeset_uuid=2dc593c1-76e6-479d-af82-e8a2a19d59d3&customize_theme=twentytwenty&customize_messenger_channel=preview-0\" \"Mozilla/5.0 (Windows NT 10.0; Win64; x64) AppleWebKit/537.36 (KHTML, like Gecko) Chrome/97.0.4692.99 Safari/537.36\"\n",
      "172.19.0.1 - - [26/Jan/2022:17:38:53 +0000] \"GET /wp-includes/js/customize-preview-nav-menus.min.js?ver=5.4.9 HTTP/1.1\" 200 2106 \"http://localhost/?customize_changeset_uuid=2dc593c1-76e6-479d-af82-e8a2a19d59d3&customize_theme=twentytwenty&customize_messenger_channel=preview-0\" \"Mozilla/5.0 (Windows NT 10.0; Win64; x64) AppleWebKit/537.36 (KHTML, like Gecko) Chrome/97.0.4692.99 Safari/537.36\"\n",
      "172.19.0.1 - - [26/Jan/2022:17:38:53 +0000] \"GET /wp-content/themes/twentytwenty/assets/js/index.js?ver=1.2 HTTP/1.1\" 200 7197 \"http://localhost/?customize_changeset_uuid=2dc593c1-76e6-479d-af82-e8a2a19d59d3&customize_theme=twentytwenty&customize_messenger_channel=preview-0\" \"Mozilla/5.0 (Windows NT 10.0; Win64; x64) AppleWebKit/537.36 (KHTML, like Gecko) Chrome/97.0.4692.99 Safari/537.36\"\n",
      "172.19.0.1 - - [26/Jan/2022:17:38:53 +0000] \"GET /wp-content/themes/twentytwenty/assets/images/2020-three-quarters-1.png HTTP/1.1\" 200 2618 \"http://localhost/?customize_changeset_uuid=2dc593c1-76e6-479d-af82-e8a2a19d59d3&customize_theme=twentytwenty&customize_messenger_channel=preview-0\" \"Mozilla/5.0 (Windows NT 10.0; Win64; x64) AppleWebKit/537.36 (KHTML, like Gecko) Chrome/97.0.4692.99 Safari/537.36\"\n",
      "172.19.0.1 - - [26/Jan/2022:17:38:53 +0000] \"GET /wp-content/uploads/2022/01/2020-landscape-1.png HTTP/1.1\" 200 1496 \"http://localhost/?customize_changeset_uuid=2dc593c1-76e6-479d-af82-e8a2a19d59d3&customize_theme=twentytwenty&customize_messenger_channel=preview-0\" \"Mozilla/5.0 (Windows NT 10.0; Win64; x64) AppleWebKit/537.36 (KHTML, like Gecko) Chrome/97.0.4692.99 Safari/537.36\"\n",
      "172.19.0.1 - - [26/Jan/2022:17:38:53 +0000] \"GET /wp-content/themes/twentytwenty/assets/images/2020-three-quarters-3.png HTTP/1.1\" 200 26393 \"http://localhost/?customize_changeset_uuid=2dc593c1-76e6-479d-af82-e8a2a19d59d3&customize_theme=twentytwenty&customize_messenger_channel=preview-0\" \"Mozilla/5.0 (Windows NT 10.0; Win64; x64) AppleWebKit/537.36 (KHTML, like Gecko) Chrome/97.0.4692.99 Safari/537.36\"\n",
      "172.19.0.1 - - [26/Jan/2022:17:38:53 +0000] \"GET /wp-content/themes/twentytwenty/assets/images/2020-three-quarters-2.png HTTP/1.1\" 200 2993 \"http://localhost/?customize_changeset_uuid=2dc593c1-76e6-479d-af82-e8a2a19d59d3&customize_theme=twentytwenty&customize_messenger_channel=preview-0\" \"Mozilla/5.0 (Windows NT 10.0; Win64; x64) AppleWebKit/537.36 (KHTML, like Gecko) Chrome/97.0.4692.99 Safari/537.36\"\n",
      "172.19.0.1 - - [26/Jan/2022:17:38:53 +0000] \"GET /wp-content/themes/twentytwenty/assets/images/2020-three-quarters-4.png HTTP/1.1\" 200 2470 \"http://localhost/?customize_changeset_uuid=2dc593c1-76e6-479d-af82-e8a2a19d59d3&customize_theme=twentytwenty&customize_messenger_channel=preview-0\" \"Mozilla/5.0 (Windows NT 10.0; Win64; x64) AppleWebKit/537.36 (KHTML, like Gecko) Chrome/97.0.4692.99 Safari/537.36\"\n",
      "172.19.0.1 - - [26/Jan/2022:17:38:53 +0000] \"GET /wp-content/themes/twentytwenty/assets/images/2020-landscape-2.png HTTP/1.1\" 200 6534 \"http://localhost/?customize_changeset_uuid=2dc593c1-76e6-479d-af82-e8a2a19d59d3&customize_theme=twentytwenty&customize_messenger_channel=preview-0\" \"Mozilla/5.0 (Windows NT 10.0; Win64; x64) AppleWebKit/537.36 (KHTML, like Gecko) Chrome/97.0.4692.99 Safari/537.36\"\n",
      "172.19.0.1 - - [26/Jan/2022:17:38:53 +0000] \"GET /wp-content/themes/twentytwenty/assets/images/2020-square-2.png HTTP/1.1\" 200 3651 \"http://localhost/?customize_changeset_uuid=2dc593c1-76e6-479d-af82-e8a2a19d59d3&customize_theme=twentytwenty&customize_messenger_channel=preview-0\" \"Mozilla/5.0 (Windows NT 10.0; Win64; x64) AppleWebKit/537.36 (KHTML, like Gecko) Chrome/97.0.4692.99 Safari/537.36\"\n",
      "172.19.0.1 - - [26/Jan/2022:17:38:53 +0000] \"GET /wp-content/themes/twentytwenty/assets/images/2020-square-1.png HTTP/1.1\" 200 4487 \"http://localhost/?customize_changeset_uuid=2dc593c1-76e6-479d-af82-e8a2a19d59d3&customize_theme=twentytwenty&customize_messenger_channel=preview-0\" \"Mozilla/5.0 (Windows NT 10.0; Win64; x64) AppleWebKit/537.36 (KHTML, like Gecko) Chrome/97.0.4692.99 Safari/537.36\"\n",
      "172.19.0.1 - - [26/Jan/2022:17:38:53 +0000] \"GET /wp-content/themes/twentytwenty/print.css?ver=1.2 HTTP/1.1\" 200 1311 \"http://localhost/?customize_changeset_uuid=2dc593c1-76e6-479d-af82-e8a2a19d59d3&customize_theme=twentytwenty&customize_messenger_channel=preview-0\" \"Mozilla/5.0 (Windows NT 10.0; Win64; x64) AppleWebKit/537.36 (KHTML, like Gecko) Chrome/97.0.4692.99 Safari/537.36\"\n",
      "172.19.0.1 - - [26/Jan/2022:17:38:53 +0000] \"GET /wp-content/themes/twentytwenty/assets/fonts/inter/Inter-upright-var.woff2 HTTP/1.1\" 200 224182 \"http://localhost/wp-content/themes/twentytwenty/style.css?ver=1.2\" \"Mozilla/5.0 (Windows NT 10.0; Win64; x64) AppleWebKit/537.36 (KHTML, like Gecko) Chrome/97.0.4692.99 Safari/537.36\"\n",
      "127.0.0.1 - - [26/Jan/2022:17:38:59 +0000] \"OPTIONS * HTTP/1.0\" 200 126 \"-\" \"Apache/2.4.38 (Debian) PHP/7.4.9 (internal dummy connection)\"\n",
      "172.19.0.1 - - [26/Jan/2022:17:39:05 +0000] \"GET /wp-admin/admin-ajax.php?action=wp-compression-test&test=1&_ajax_nonce=b03db5b1e7&1643218748004 HTTP/1.1\" 200 1138 \"http://localhost/wp-admin/\" \"Mozilla/5.0 (Windows NT 10.0; Win64; x64) AppleWebKit/537.36 (KHTML, like Gecko) Chrome/97.0.4692.99 Safari/537.36\"\n",
      "172.19.0.1 - - [26/Jan/2022:17:39:05 +0000] \"POST /wp-admin/admin-ajax.php HTTP/1.1\" 200 649 \"http://localhost/wp-admin/\" \"Mozilla/5.0 (Windows NT 10.0; Win64; x64) AppleWebKit/537.36 (KHTML, like Gecko) Chrome/97.0.4692.99 Safari/537.36\"\n",
      "172.19.0.1 - - [26/Jan/2022:17:39:05 +0000] \"GET /wp-admin/admin-ajax.php?action=wp-compression-test&test=no&_ajax_nonce=b03db5b1e7&1643218748062 HTTP/1.1\" 200 470 \"http://localhost/wp-admin/\" \"Mozilla/5.0 (Windows NT 10.0; Win64; x64) AppleWebKit/537.36 (KHTML, like Gecko) Chrome/97.0.4692.99 Safari/537.36\"\n",
      "172.19.0.1 - - [26/Jan/2022:17:39:11 +0000] \"GET /wp-admin/customize.php?autofocus[section]=static_front_page HTTP/1.1\" 200 56196 \"http://localhost/wp-admin/\" \"Mozilla/5.0 (Windows NT 10.0; Win64; x64) AppleWebKit/537.36 (KHTML, like Gecko) Chrome/97.0.4692.99 Safari/537.36\"\n",
      "172.19.0.1 - - [26/Jan/2022:17:39:11 +0000] \"GET /wp-includes/js/customize-base.min.js?ver=5.4.9 HTTP/1.1\" 200 2847 \"http://localhost/wp-admin/customize.php?autofocus[section]=static_front_page\" \"Mozilla/5.0 (Windows NT 10.0; Win64; x64) AppleWebKit/537.36 (KHTML, like Gecko) Chrome/97.0.4692.99 Safari/537.36\"\n",
      "172.19.0.1 - - [26/Jan/2022:17:39:11 +0000] \"GET /wp-includes/js/dist/dom-ready.min.js?ver=93db39f6fe07a70cb9217310bec0a531 HTTP/1.1\" 200 950 \"http://localhost/wp-admin/customize.php?autofocus[section]=static_front_page\" \"Mozilla/5.0 (Windows NT 10.0; Win64; x64) AppleWebKit/537.36 (KHTML, like Gecko) Chrome/97.0.4692.99 Safari/537.36\"\n",
      "172.19.0.1 - - [26/Jan/2022:17:39:11 +0000] \"GET /wp-includes/js/dist/a11y.min.js?ver=8d75be94e0703857a3323c972eb3d7d2 HTTP/1.1\" 200 1381 \"http://localhost/wp-admin/customize.php?autofocus[section]=static_front_page\" \"Mozilla/5.0 (Windows NT 10.0; Win64; x64) AppleWebKit/537.36 (KHTML, like Gecko) Chrome/97.0.4692.99 Safari/537.36\"\n",
      "172.19.0.1 - - [26/Jan/2022:17:39:11 +0000] \"GET /wp-includes/js/wp-util.min.js?ver=5.4.9 HTTP/1.1\" 200 939 \"http://localhost/wp-admin/customize.php?autofocus[section]=static_front_page\" \"Mozilla/5.0 (Windows NT 10.0; Win64; x64) AppleWebKit/537.36 (KHTML, like Gecko) Chrome/97.0.4692.99 Safari/537.36\"\n",
      "172.19.0.1 - - [26/Jan/2022:17:39:11 +0000] \"GET /wp-includes/js/jquery/ui/core.min.js?ver=1.11.4 HTTP/1.1\" 200 2162 \"http://localhost/wp-admin/customize.php?autofocus[section]=static_front_page\" \"Mozilla/5.0 (Windows NT 10.0; Win64; x64) AppleWebKit/537.36 (KHTML, like Gecko) Chrome/97.0.4692.99 Safari/537.36\"\n",
      "172.19.0.1 - - [26/Jan/2022:17:39:11 +0000] \"GET /wp-includes/js/jquery/ui/widget.min.js?ver=1.11.4 HTTP/1.1\" 200 2894 \"http://localhost/wp-admin/customize.php?autofocus[section]=static_front_page\" \"Mozilla/5.0 (Windows NT 10.0; Win64; x64) AppleWebKit/537.36 (KHTML, like Gecko) Chrome/97.0.4692.99 Safari/537.36\"\n",
      "172.19.0.1 - - [26/Jan/2022:17:39:11 +0000] \"GET /wp-includes/js/jquery/ui/mouse.min.js?ver=1.11.4 HTTP/1.1\" 200 1340 \"http://localhost/wp-admin/customize.php?autofocus[section]=static_front_page\" \"Mozilla/5.0 (Windows NT 10.0; Win64; x64) AppleWebKit/537.36 (KHTML, like Gecko) Chrome/97.0.4692.99 Safari/537.36\"\n",
      "172.19.0.1 - - [26/Jan/2022:17:39:11 +0000] \"GET /wp-admin/js/customize-controls.min.js?ver=5.4.9 HTTP/1.1\" 200 28524 \"http://localhost/wp-admin/customize.php?autofocus[section]=static_front_page\" \"Mozilla/5.0 (Windows NT 10.0; Win64; x64) AppleWebKit/537.36 (KHTML, like Gecko) Chrome/97.0.4692.99 Safari/537.36\"\n",
      "172.19.0.1 - - [26/Jan/2022:17:39:11 +0000] \"GET /wp-includes/js/jquery/ui/droppable.min.js?ver=1.11.4 HTTP/1.1\" 200 2302 \"http://localhost/wp-admin/customize.php?autofocus[section]=static_front_page\" \"Mozilla/5.0 (Windows NT 10.0; Win64; x64) AppleWebKit/537.36 (KHTML, like Gecko) Chrome/97.0.4692.99 Safari/537.36\"\n",
      "172.19.0.1 - - [26/Jan/2022:17:39:11 +0000] \"GET /wp-includes/js/jquery/ui/sortable.min.js?ver=1.11.4 HTTP/1.1\" 200 6776 \"http://localhost/wp-admin/customize.php?autofocus[section]=static_front_page\" \"Mozilla/5.0 (Windows NT 10.0; Win64; x64) AppleWebKit/537.36 (KHTML, like Gecko) Chrome/97.0.4692.99 Safari/537.36\"\n",
      "172.19.0.1 - - [26/Jan/2022:17:39:11 +0000] \"GET /wp-includes/js/jquery/ui/draggable.min.js?ver=1.11.4 HTTP/1.1\" 200 5301 \"http://localhost/wp-admin/customize.php?autofocus[section]=static_front_page\" \"Mozilla/5.0 (Windows NT 10.0; Win64; x64) AppleWebKit/537.36 (KHTML, like Gecko) Chrome/97.0.4692.99 Safari/537.36\"\n",
      "172.19.0.1 - - [26/Jan/2022:17:39:11 +0000] \"GET /wp-includes/js/wp-backbone.min.js?ver=5.4.9 HTTP/1.1\" 200 1526 \"http://localhost/wp-admin/customize.php?autofocus[section]=static_front_page\" \"Mozilla/5.0 (Windows NT 10.0; Win64; x64) AppleWebKit/537.36 (KHTML, like Gecko) Chrome/97.0.4692.99 Safari/537.36\"\n",
      "172.19.0.1 - - [26/Jan/2022:17:39:11 +0000] \"GET /wp-includes/js/backbone.min.js?ver=1.4.0 HTTP/1.1\" 200 8238 \"http://localhost/wp-admin/customize.php?autofocus[section]=static_front_page\" \"Mozilla/5.0 (Windows NT 10.0; Win64; x64) AppleWebKit/537.36 (KHTML, like Gecko) Chrome/97.0.4692.99 Safari/537.36\"\n",
      "172.19.0.1 - - [26/Jan/2022:17:39:11 +0000] \"GET /wp-includes/js/wp-ajax-response.min.js?ver=5.4.9 HTTP/1.1\" 200 1333 \"http://localhost/wp-admin/customize.php?autofocus[section]=static_front_page\" \"Mozilla/5.0 (Windows NT 10.0; Win64; x64) AppleWebKit/537.36 (KHTML, like Gecko) Chrome/97.0.4692.99 Safari/537.36\"\n",
      "172.19.0.1 - - [26/Jan/2022:17:39:11 +0000] \"GET /wp-includes/js/wp-lists.min.js?ver=5.4.9 HTTP/1.1\" 200 2871 \"http://localhost/wp-admin/customize.php?autofocus[section]=static_front_page\" \"Mozilla/5.0 (Windows NT 10.0; Win64; x64) AppleWebKit/537.36 (KHTML, like Gecko) Chrome/97.0.4692.99 Safari/537.36\"\n",
      "172.19.0.1 - - [26/Jan/2022:17:39:11 +0000] \"GET /wp-admin/js/postbox.min.js?ver=5.4.9 HTTP/1.1\" 200 1926 \"http://localhost/wp-admin/customize.php?autofocus[section]=static_front_page\" \"Mozilla/5.0 (Windows NT 10.0; Win64; x64) AppleWebKit/537.36 (KHTML, like Gecko) Chrome/97.0.4692.99 Safari/537.36\"\n",
      "172.19.0.1 - - [26/Jan/2022:17:39:11 +0000] \"GET /wp-admin/js/nav-menu.min.js?ver=5.4.9 HTTP/1.1\" 200 6649 \"http://localhost/wp-admin/customize.php?autofocus[section]=static_front_page\" \"Mozilla/5.0 (Windows NT 10.0; Win64; x64) AppleWebKit/537.36 (KHTML, like Gecko) Chrome/97.0.4692.99 Safari/537.36\"\n",
      "172.19.0.1 - - [26/Jan/2022:17:39:11 +0000] \"GET /wp-includes/js/shortcode.min.js?ver=5.4.9 HTTP/1.1\" 200 1491 \"http://localhost/wp-admin/customize.php?autofocus[section]=static_front_page\" \"Mozilla/5.0 (Windows NT 10.0; Win64; x64) AppleWebKit/537.36 (KHTML, like Gecko) Chrome/97.0.4692.99 Safari/537.36\"\n",
      "172.19.0.1 - - [26/Jan/2022:17:39:11 +0000] \"GET /wp-includes/js/utils.min.js?ver=5.4.9 HTTP/1.1\" 200 1177 \"http://localhost/wp-admin/customize.php?autofocus[section]=static_front_page\" \"Mozilla/5.0 (Windows NT 10.0; Win64; x64) AppleWebKit/537.36 (KHTML, like Gecko) Chrome/97.0.4692.99 Safari/537.36\"\n",
      "172.19.0.1 - - [26/Jan/2022:17:39:11 +0000] \"GET /wp-includes/js/media-models.min.js?ver=5.4.9 HTTP/1.1\" 200 4765 \"http://localhost/wp-admin/customize.php?autofocus[section]=static_front_page\" \"Mozilla/5.0 (Windows NT 10.0; Win64; x64) AppleWebKit/537.36 (KHTML, like Gecko) Chrome/97.0.4692.99 Safari/537.36\"\n",
      "172.19.0.1 - - [26/Jan/2022:17:39:11 +0000] \"GET /wp-includes/js/plupload/plupload.min.js?ver=2.1.9 HTTP/1.1\" 200 5939 \"http://localhost/wp-admin/customize.php?autofocus[section]=static_front_page\" \"Mozilla/5.0 (Windows NT 10.0; Win64; x64) AppleWebKit/537.36 (KHTML, like Gecko) Chrome/97.0.4692.99 Safari/537.36\"\n",
      "172.19.0.1 - - [26/Jan/2022:17:39:11 +0000] \"GET /wp-includes/js/plupload/moxie.min.js?ver=1.3.5 HTTP/1.1\" 200 27847 \"http://localhost/wp-admin/customize.php?autofocus[section]=static_front_page\" \"Mozilla/5.0 (Windows NT 10.0; Win64; x64) AppleWebKit/537.36 (KHTML, like Gecko) Chrome/97.0.4692.99 Safari/537.36\"\n",
      "172.19.0.1 - - [26/Jan/2022:17:39:11 +0000] \"GET /wp-includes/js/plupload/wp-plupload.min.js?ver=5.4.9 HTTP/1.1\" 200 2551 \"http://localhost/wp-admin/customize.php?autofocus[section]=static_front_page\" \"Mozilla/5.0 (Windows NT 10.0; Win64; x64) AppleWebKit/537.36 (KHTML, like Gecko) Chrome/97.0.4692.99 Safari/537.36\"\n",
      "172.19.0.1 - - [26/Jan/2022:17:39:11 +0000] \"GET /wp-includes/js/mediaelement/mediaelement-migrate.min.js?ver=5.4.9 HTTP/1.1\" 200 893 \"http://localhost/wp-admin/customize.php?autofocus[section]=static_front_page\" \"Mozilla/5.0 (Windows NT 10.0; Win64; x64) AppleWebKit/537.36 (KHTML, like Gecko) Chrome/97.0.4692.99 Safari/537.36\"\n",
      "172.19.0.1 - - [26/Jan/2022:17:39:11 +0000] \"GET /wp-includes/js/mediaelement/wp-mediaelement.min.js?ver=5.4.9 HTTP/1.1\" 200 824 \"http://localhost/wp-admin/customize.php?autofocus[section]=static_front_page\" \"Mozilla/5.0 (Windows NT 10.0; Win64; x64) AppleWebKit/537.36 (KHTML, like Gecko) Chrome/97.0.4692.99 Safari/537.36\"\n",
      "172.19.0.1 - - [26/Jan/2022:17:39:11 +0000] \"GET /wp-includes/js/api-request.min.js?ver=5.4.9 HTTP/1.1\" 200 816 \"http://localhost/wp-admin/customize.php?autofocus[section]=static_front_page\" \"Mozilla/5.0 (Windows NT 10.0; Win64; x64) AppleWebKit/537.36 (KHTML, like Gecko) Chrome/97.0.4692.99 Safari/537.36\"\n",
      "172.19.0.1 - - [26/Jan/2022:17:39:11 +0000] \"GET /wp-includes/js/dist/i18n.min.js?ver=526cadb8371e147b94b51de08c0e6167 HTTP/1.1\" 200 3930 \"http://localhost/wp-admin/customize.php?autofocus[section]=static_front_page\" \"Mozilla/5.0 (Windows NT 10.0; Win64; x64) AppleWebKit/537.36 (KHTML, like Gecko) Chrome/97.0.4692.99 Safari/537.36\"\n",
      "172.19.0.1 - - [26/Jan/2022:17:39:11 +0000] \"GET /wp-includes/js/media-editor.min.js?ver=5.4.9 HTTP/1.1\" 200 3931 \"http://localhost/wp-admin/customize.php?autofocus[section]=static_front_page\" \"Mozilla/5.0 (Windows NT 10.0; Win64; x64) AppleWebKit/537.36 (KHTML, like Gecko) Chrome/97.0.4692.99 Safari/537.36\"\n",
      "172.19.0.1 - - [26/Jan/2022:17:39:11 +0000] \"GET /wp-includes/js/media-audiovideo.min.js?ver=5.4.9 HTTP/1.1\" 200 3949 \"http://localhost/wp-admin/customize.php?autofocus[section]=static_front_page\" \"Mozilla/5.0 (Windows NT 10.0; Win64; x64) AppleWebKit/537.36 (KHTML, like Gecko) Chrome/97.0.4692.99 Safari/537.36\"\n",
      "172.19.0.1 - - [26/Jan/2022:17:39:11 +0000] \"GET /wp-includes/js/jquery/ui/slider.min.js?ver=1.11.4 HTTP/1.1\" 200 3404 \"http://localhost/wp-admin/customize.php?autofocus[section]=static_front_page\" \"Mozilla/5.0 (Windows NT 10.0; Win64; x64) AppleWebKit/537.36 (KHTML, like Gecko) Chrome/97.0.4692.99 Safari/537.36\"\n",
      "172.19.0.1 - - [26/Jan/2022:17:39:11 +0000] \"GET /wp-includes/js/media-views.min.js?ver=5.4.9 HTTP/1.1\" 200 24382 \"http://localhost/wp-admin/customize.php?autofocus[section]=static_front_page\" \"Mozilla/5.0 (Windows NT 10.0; Win64; x64) AppleWebKit/537.36 (KHTML, like Gecko) Chrome/97.0.4692.99 Safari/537.36\"\n",
      "172.19.0.1 - - [26/Jan/2022:17:39:11 +0000] \"GET /wp-admin/js/color-picker.min.js?ver=5.4.9 HTTP/1.1\" 200 1541 \"http://localhost/wp-admin/customize.php?autofocus[section]=static_front_page\" \"Mozilla/5.0 (Windows NT 10.0; Win64; x64) AppleWebKit/537.36 (KHTML, like Gecko) Chrome/97.0.4692.99 Safari/537.36\"\n",
      "172.19.0.1 - - [26/Jan/2022:17:39:11 +0000] \"GET /wp-admin/js/code-editor.min.js?ver=5.4.9 HTTP/1.1\" 200 1654 \"http://localhost/wp-admin/customize.php?autofocus[section]=static_front_page\" \"Mozilla/5.0 (Windows NT 10.0; Win64; x64) AppleWebKit/537.36 (KHTML, like Gecko) Chrome/97.0.4692.99 Safari/537.36\"\n",
      "172.19.0.1 - - [26/Jan/2022:17:39:11 +0000] \"GET /wp-admin/js/widgets/media-audio-widget.min.js?ver=5.4.9 HTTP/1.1\" 200 1034 \"http://localhost/wp-admin/customize.php?autofocus[section]=static_front_page\" \"Mozilla/5.0 (Windows NT 10.0; Win64; x64) AppleWebKit/537.36 (KHTML, like Gecko) Chrome/97.0.4692.99 Safari/537.36\"\n",
      "172.19.0.1 - - [26/Jan/2022:17:39:11 +0000] \"GET /wp-admin/js/widgets/media-image-widget.min.js?ver=5.4.9 HTTP/1.1\" 200 1190 \"http://localhost/wp-admin/customize.php?autofocus[section]=static_front_page\" \"Mozilla/5.0 (Windows NT 10.0; Win64; x64) AppleWebKit/537.36 (KHTML, like Gecko) Chrome/97.0.4692.99 Safari/537.36\"\n",
      "172.19.0.1 - - [26/Jan/2022:17:39:11 +0000] \"GET /wp-admin/js/widgets/media-widgets.min.js?ver=5.4.9 HTTP/1.1\" 200 4989 \"http://localhost/wp-admin/customize.php?autofocus[section]=static_front_page\" \"Mozilla/5.0 (Windows NT 10.0; Win64; x64) AppleWebKit/537.36 (KHTML, like Gecko) Chrome/97.0.4692.99 Safari/537.36\"\n",
      "172.19.0.1 - - [26/Jan/2022:17:39:11 +0000] \"GET /wp-admin/js/widgets/media-gallery-widget.min.js?ver=5.4.9 HTTP/1.1\" 200 1579 \"http://localhost/wp-admin/customize.php?autofocus[section]=static_front_page\" \"Mozilla/5.0 (Windows NT 10.0; Win64; x64) AppleWebKit/537.36 (KHTML, like Gecko) Chrome/97.0.4692.99 Safari/537.36\"\n",
      "172.19.0.1 - - [26/Jan/2022:17:39:11 +0000] \"GET /wp-admin/js/widgets/media-video-widget.min.js?ver=5.4.9 HTTP/1.1\" 200 1513 \"http://localhost/wp-admin/customize.php?autofocus[section]=static_front_page\" \"Mozilla/5.0 (Windows NT 10.0; Win64; x64) AppleWebKit/537.36 (KHTML, like Gecko) Chrome/97.0.4692.99 Safari/537.36\"\n",
      "172.19.0.1 - - [26/Jan/2022:17:39:11 +0000] \"GET /wp-admin/js/editor.min.js?ver=5.4.9 HTTP/1.1\" 200 5094 \"http://localhost/wp-admin/customize.php?autofocus[section]=static_front_page\" \"Mozilla/5.0 (Windows NT 10.0; Win64; x64) AppleWebKit/537.36 (KHTML, like Gecko) Chrome/97.0.4692.99 Safari/537.36\"\n",
      "172.19.0.1 - - [26/Jan/2022:17:39:11 +0000] \"GET /wp-admin/js/widgets/text-widgets.min.js?ver=5.4.9 HTTP/1.1\" 200 2384 \"http://localhost/wp-admin/customize.php?autofocus[section]=static_front_page\" \"Mozilla/5.0 (Windows NT 10.0; Win64; x64) AppleWebKit/537.36 (KHTML, like Gecko) Chrome/97.0.4692.99 Safari/537.36\"\n",
      "172.19.0.1 - - [26/Jan/2022:17:39:11 +0000] \"GET /wp-admin/js/widgets/custom-html-widgets.min.js?ver=5.4.9 HTTP/1.1\" 200 2269 \"http://localhost/wp-admin/customize.php?autofocus[section]=static_front_page\" \"Mozilla/5.0 (Windows NT 10.0; Win64; x64) AppleWebKit/537.36 (KHTML, like Gecko) Chrome/97.0.4692.99 Safari/537.36\"\n",
      "172.19.0.1 - - [26/Jan/2022:17:39:12 +0000] \"GET /wp-includes/js/wp-emoji-release.min.js?ver=5.4.9 HTTP/1.1\" 200 4997 \"http://localhost/wp-admin/customize.php?autofocus[section]=static_front_page\" \"Mozilla/5.0 (Windows NT 10.0; Win64; x64) AppleWebKit/537.36 (KHTML, like Gecko) Chrome/97.0.4692.99 Safari/537.36\"\n",
      "172.19.0.1 - - [26/Jan/2022:17:39:12 +0000] \"GET /?customize_changeset_uuid=8a69c45f-40ab-449f-a47e-235eb6ef26cc&customize_theme=twentytwenty&customize_messenger_channel=preview-0 HTTP/1.1\" 200 18623 \"http://localhost/wp-admin/customize.php?autofocus[section]=static_front_page\" \"Mozilla/5.0 (Windows NT 10.0; Win64; x64) AppleWebKit/537.36 (KHTML, like Gecko) Chrome/97.0.4692.99 Safari/537.36\"\n",
      "172.19.0.1 - - [26/Jan/2022:17:39:12 +0000] \"GET /wp-includes/css/customize-preview.min.css?ver=5.4.9 HTTP/1.1\" 200 1190 \"http://localhost/?customize_changeset_uuid=8a69c45f-40ab-449f-a47e-235eb6ef26cc&customize_theme=twentytwenty&customize_messenger_channel=preview-0\" \"Mozilla/5.0 (Windows NT 10.0; Win64; x64) AppleWebKit/537.36 (KHTML, like Gecko) Chrome/97.0.4692.99 Safari/537.36\"\n",
      "172.19.0.1 - - [26/Jan/2022:17:39:12 +0000] \"GET /wp-includes/css/dashicons.min.css?ver=5.4.9 HTTP/1.1\" 200 28825 \"http://localhost/?customize_changeset_uuid=8a69c45f-40ab-449f-a47e-235eb6ef26cc&customize_theme=twentytwenty&customize_messenger_channel=preview-0\" \"Mozilla/5.0 (Windows NT 10.0; Win64; x64) AppleWebKit/537.36 (KHTML, like Gecko) Chrome/97.0.4692.99 Safari/537.36\"\n",
      "172.19.0.1 - - [26/Jan/2022:17:39:12 +0000] \"GET /wp-includes/js/customize-preview.min.js?ver=5.4.9 HTTP/1.1\" 200 3475 \"http://localhost/?customize_changeset_uuid=8a69c45f-40ab-449f-a47e-235eb6ef26cc&customize_theme=twentytwenty&customize_messenger_channel=preview-0\" \"Mozilla/5.0 (Windows NT 10.0; Win64; x64) AppleWebKit/537.36 (KHTML, like Gecko) Chrome/97.0.4692.99 Safari/537.36\"\n",
      "172.19.0.1 - - [26/Jan/2022:17:39:12 +0000] \"GET /wp-includes/js/customize-selective-refresh.min.js?ver=5.4.9 HTTP/1.1\" 200 3973 \"http://localhost/?customize_changeset_uuid=8a69c45f-40ab-449f-a47e-235eb6ef26cc&customize_theme=twentytwenty&customize_messenger_channel=preview-0\" \"Mozilla/5.0 (Windows NT 10.0; Win64; x64) AppleWebKit/537.36 (KHTML, like Gecko) Chrome/97.0.4692.99 Safari/537.36\"\n",
      "172.19.0.1 - - [26/Jan/2022:17:39:12 +0000] \"GET /wp-includes/js/customize-preview-widgets.min.js?ver=5.4.9 HTTP/1.1\" 200 2923 \"http://localhost/?customize_changeset_uuid=8a69c45f-40ab-449f-a47e-235eb6ef26cc&customize_theme=twentytwenty&customize_messenger_channel=preview-0\" \"Mozilla/5.0 (Windows NT 10.0; Win64; x64) AppleWebKit/537.36 (KHTML, like Gecko) Chrome/97.0.4692.99 Safari/537.36\"\n",
      "172.19.0.1 - - [26/Jan/2022:17:39:12 +0000] \"GET /wp-content/uploads/2022/01/2020-landscape-1-1.png HTTP/1.1\" 200 1496 \"http://localhost/?customize_changeset_uuid=8a69c45f-40ab-449f-a47e-235eb6ef26cc&customize_theme=twentytwenty&customize_messenger_channel=preview-0\" \"Mozilla/5.0 (Windows NT 10.0; Win64; x64) AppleWebKit/537.36 (KHTML, like Gecko) Chrome/97.0.4692.99 Safari/537.36\"\n",
      "172.19.0.1 - - [26/Jan/2022:17:39:12 +0000] \"GET /wp-includes/js/wp-embed.min.js?ver=5.4.9 HTTP/1.1\" 200 1114 \"http://localhost/?customize_changeset_uuid=8a69c45f-40ab-449f-a47e-235eb6ef26cc&customize_theme=twentytwenty&customize_messenger_channel=preview-0\" \"Mozilla/5.0 (Windows NT 10.0; Win64; x64) AppleWebKit/537.36 (KHTML, like Gecko) Chrome/97.0.4692.99 Safari/537.36\"\n",
      "172.19.0.1 - - [26/Jan/2022:17:39:12 +0000] \"GET /wp-includes/js/customize-preview-nav-menus.min.js?ver=5.4.9 HTTP/1.1\" 200 2106 \"http://localhost/?customize_changeset_uuid=8a69c45f-40ab-449f-a47e-235eb6ef26cc&customize_theme=twentytwenty&customize_messenger_channel=preview-0\" \"Mozilla/5.0 (Windows NT 10.0; Win64; x64) AppleWebKit/537.36 (KHTML, like Gecko) Chrome/97.0.4692.99 Safari/537.36\"\n",
      "127.0.0.1 - - [26/Jan/2022:17:39:18 +0000] \"OPTIONS * HTTP/1.0\" 200 126 \"-\" \"Apache/2.4.38 (Debian) PHP/7.4.9 (internal dummy connection)\"\n",
      "172.19.0.1 - - [26/Jan/2022:17:39:21 +0000] \"POST /?customize_changeset_uuid=8a69c45f-40ab-449f-a47e-235eb6ef26cc&customize_theme=twentytwenty&customize_messenger_channel=preview-1&customize_autosaved=on HTTP/1.1\" 200 18604 \"http://localhost/wp-admin/customize.php?autofocus[section]=static_front_page\" \"Mozilla/5.0 (Windows NT 10.0; Win64; x64) AppleWebKit/537.36 (KHTML, like Gecko) Chrome/97.0.4692.99 Safari/537.36\"\n",
      "172.19.0.1 - - [26/Jan/2022:17:39:21 +0000] \"GET /wp-includes/css/dashicons.min.css?ver=5.4.9 HTTP/1.1\" 200 28825 \"http://localhost/?customize_changeset_uuid=8a69c45f-40ab-449f-a47e-235eb6ef26cc&customize_theme=twentytwenty&customize_messenger_channel=preview-1&customize_autosaved=on\" \"Mozilla/5.0 (Windows NT 10.0; Win64; x64) AppleWebKit/537.36 (KHTML, like Gecko) Chrome/97.0.4692.99 Safari/537.36\"\n",
      "172.19.0.1 - - [26/Jan/2022:17:39:21 +0000] \"GET /wp-includes/css/customize-preview.min.css?ver=5.4.9 HTTP/1.1\" 200 1191 \"http://localhost/?customize_changeset_uuid=8a69c45f-40ab-449f-a47e-235eb6ef26cc&customize_theme=twentytwenty&customize_messenger_channel=preview-1&customize_autosaved=on\" \"Mozilla/5.0 (Windows NT 10.0; Win64; x64) AppleWebKit/537.36 (KHTML, like Gecko) Chrome/97.0.4692.99 Safari/537.36\"\n",
      "172.19.0.1 - - [26/Jan/2022:17:39:21 +0000] \"GET /wp-includes/js/dist/dom-ready.min.js?ver=93db39f6fe07a70cb9217310bec0a531 HTTP/1.1\" 200 950 \"http://localhost/?customize_changeset_uuid=8a69c45f-40ab-449f-a47e-235eb6ef26cc&customize_theme=twentytwenty&customize_messenger_channel=preview-1&customize_autosaved=on\" \"Mozilla/5.0 (Windows NT 10.0; Win64; x64) AppleWebKit/537.36 (KHTML, like Gecko) Chrome/97.0.4692.99 Safari/537.36\"\n",
      "172.19.0.1 - - [26/Jan/2022:17:39:21 +0000] \"GET /wp-includes/js/dist/a11y.min.js?ver=8d75be94e0703857a3323c972eb3d7d2 HTTP/1.1\" 200 1381 \"http://localhost/?customize_changeset_uuid=8a69c45f-40ab-449f-a47e-235eb6ef26cc&customize_theme=twentytwenty&customize_messenger_channel=preview-1&customize_autosaved=on\" \"Mozilla/5.0 (Windows NT 10.0; Win64; x64) AppleWebKit/537.36 (KHTML, like Gecko) Chrome/97.0.4692.99 Safari/537.36\"\n",
      "172.19.0.1 - - [26/Jan/2022:17:39:21 +0000] \"GET /wp-includes/js/customize-base.min.js?ver=5.4.9 HTTP/1.1\" 200 2848 \"http://localhost/?customize_changeset_uuid=8a69c45f-40ab-449f-a47e-235eb6ef26cc&customize_theme=twentytwenty&customize_messenger_channel=preview-1&customize_autosaved=on\" \"Mozilla/5.0 (Windows NT 10.0; Win64; x64) AppleWebKit/537.36 (KHTML, like Gecko) Chrome/97.0.4692.99 Safari/537.36\"\n",
      "172.19.0.1 - - [26/Jan/2022:17:39:21 +0000] \"GET /wp-includes/js/customize-preview.min.js?ver=5.4.9 HTTP/1.1\" 200 3476 \"http://localhost/?customize_changeset_uuid=8a69c45f-40ab-449f-a47e-235eb6ef26cc&customize_theme=twentytwenty&customize_messenger_channel=preview-1&customize_autosaved=on\" \"Mozilla/5.0 (Windows NT 10.0; Win64; x64) AppleWebKit/537.36 (KHTML, like Gecko) Chrome/97.0.4692.99 Safari/537.36\"\n",
      "172.19.0.1 - - [26/Jan/2022:17:39:21 +0000] \"GET /wp-includes/js/wp-util.min.js?ver=5.4.9 HTTP/1.1\" 200 938 \"http://localhost/?customize_changeset_uuid=8a69c45f-40ab-449f-a47e-235eb6ef26cc&customize_theme=twentytwenty&customize_messenger_channel=preview-1&customize_autosaved=on\" \"Mozilla/5.0 (Windows NT 10.0; Win64; x64) AppleWebKit/537.36 (KHTML, like Gecko) Chrome/97.0.4692.99 Safari/537.36\"\n",
      "172.19.0.1 - - [26/Jan/2022:17:39:21 +0000] \"GET /wp-includes/js/customize-selective-refresh.min.js?ver=5.4.9 HTTP/1.1\" 200 3973 \"http://localhost/?customize_changeset_uuid=8a69c45f-40ab-449f-a47e-235eb6ef26cc&customize_theme=twentytwenty&customize_messenger_channel=preview-1&customize_autosaved=on\" \"Mozilla/5.0 (Windows NT 10.0; Win64; x64) AppleWebKit/537.36 (KHTML, like Gecko) Chrome/97.0.4692.99 Safari/537.36\"\n",
      "172.19.0.1 - - [26/Jan/2022:17:39:21 +0000] \"GET /wp-includes/js/mediaelement/wp-mediaelement.min.js?ver=5.4.9 HTTP/1.1\" 200 824 \"http://localhost/?customize_changeset_uuid=8a69c45f-40ab-449f-a47e-235eb6ef26cc&customize_theme=twentytwenty&customize_messenger_channel=preview-1&customize_autosaved=on\" \"Mozilla/5.0 (Windows NT 10.0; Win64; x64) AppleWebKit/537.36 (KHTML, like Gecko) Chrome/97.0.4692.99 Safari/537.36\"\n",
      "172.19.0.1 - - [26/Jan/2022:17:39:21 +0000] \"GET /wp-includes/js/mediaelement/mediaelement-migrate.min.js?ver=5.4.9 HTTP/1.1\" 200 893 \"http://localhost/?customize_changeset_uuid=8a69c45f-40ab-449f-a47e-235eb6ef26cc&customize_theme=twentytwenty&customize_messenger_channel=preview-1&customize_autosaved=on\" \"Mozilla/5.0 (Windows NT 10.0; Win64; x64) AppleWebKit/537.36 (KHTML, like Gecko) Chrome/97.0.4692.99 Safari/537.36\"\n",
      "172.19.0.1 - - [26/Jan/2022:17:39:21 +0000] \"GET /wp-includes/js/customize-preview-widgets.min.js?ver=5.4.9 HTTP/1.1\" 200 2923 \"http://localhost/?customize_changeset_uuid=8a69c45f-40ab-449f-a47e-235eb6ef26cc&customize_theme=twentytwenty&customize_messenger_channel=preview-1&customize_autosaved=on\" \"Mozilla/5.0 (Windows NT 10.0; Win64; x64) AppleWebKit/537.36 (KHTML, like Gecko) Chrome/97.0.4692.99 Safari/537.36\"\n",
      "172.19.0.1 - - [26/Jan/2022:17:39:21 +0000] \"GET /wp-includes/js/backbone.min.js?ver=1.4.0 HTTP/1.1\" 200 8238 \"http://localhost/?customize_changeset_uuid=8a69c45f-40ab-449f-a47e-235eb6ef26cc&customize_theme=twentytwenty&customize_messenger_channel=preview-1&customize_autosaved=on\" \"Mozilla/5.0 (Windows NT 10.0; Win64; x64) AppleWebKit/537.36 (KHTML, like Gecko) Chrome/97.0.4692.99 Safari/537.36\"\n",
      "172.19.0.1 - - [26/Jan/2022:17:39:21 +0000] \"GET /wp-includes/js/customize-preview-nav-menus.min.js?ver=5.4.9 HTTP/1.1\" 200 2106 \"http://localhost/?customize_changeset_uuid=8a69c45f-40ab-449f-a47e-235eb6ef26cc&customize_theme=twentytwenty&customize_messenger_channel=preview-1&customize_autosaved=on\" \"Mozilla/5.0 (Windows NT 10.0; Win64; x64) AppleWebKit/537.36 (KHTML, like Gecko) Chrome/97.0.4692.99 Safari/537.36\"\n",
      "172.19.0.1 - - [26/Jan/2022:17:39:21 +0000] \"GET /wp-includes/js/wp-embed.min.js?ver=5.4.9 HTTP/1.1\" 200 1114 \"http://localhost/?customize_changeset_uuid=8a69c45f-40ab-449f-a47e-235eb6ef26cc&customize_theme=twentytwenty&customize_messenger_channel=preview-1&customize_autosaved=on\" \"Mozilla/5.0 (Windows NT 10.0; Win64; x64) AppleWebKit/537.36 (KHTML, like Gecko) Chrome/97.0.4692.99 Safari/537.36\"\n",
      "172.19.0.1 - - [26/Jan/2022:17:39:21 +0000] \"GET /wp-includes/js/wp-emoji-release.min.js?ver=5.4.9 HTTP/1.1\" 200 4997 \"http://localhost/?customize_changeset_uuid=8a69c45f-40ab-449f-a47e-235eb6ef26cc&customize_theme=twentytwenty&customize_messenger_channel=preview-1&customize_autosaved=on\" \"Mozilla/5.0 (Windows NT 10.0; Win64; x64) AppleWebKit/537.36 (KHTML, like Gecko) Chrome/97.0.4692.99 Safari/537.36\"\n",
      "172.19.0.1 - - [26/Jan/2022:17:39:26 +0000] \"POST /2022/01/26/hello-world/?customize_changeset_uuid=8a69c45f-40ab-449f-a47e-235eb6ef26cc&customize_theme=twentytwenty&customize_messenger_channel=preview-2&customize_autosaved=on HTTP/1.1\" 200 20050 \"http://localhost/wp-admin/customize.php?autofocus[section]=static_front_page\" \"Mozilla/5.0 (Windows NT 10.0; Win64; x64) AppleWebKit/537.36 (KHTML, like Gecko) Chrome/97.0.4692.99 Safari/537.36\"\n",
      "172.19.0.1 - - [26/Jan/2022:17:39:26 +0000] \"GET /wp-includes/js/comment-reply.min.js?ver=5.4.9 HTTP/1.1\" 200 1494 \"http://localhost/2022/01/26/hello-world/?customize_changeset_uuid=8a69c45f-40ab-449f-a47e-235eb6ef26cc&customize_theme=twentytwenty&customize_messenger_channel=preview-2&customize_autosaved=on\" \"Mozilla/5.0 (Windows NT 10.0; Win64; x64) AppleWebKit/537.36 (KHTML, like Gecko) Chrome/97.0.4692.99 Safari/537.36\"\n",
      "127.0.0.1 - - [26/Jan/2022:17:39:32 +0000] \"OPTIONS * HTTP/1.0\" 200 126 \"-\" \"Apache/2.4.38 (Debian) PHP/7.4.9 (internal dummy connection)\"\n",
      "172.19.0.1 - - [26/Jan/2022:17:39:47 +0000] \"POST /2022/01/26/hello-world/?customize_changeset_uuid=8a69c45f-40ab-449f-a47e-235eb6ef26cc&customize_theme=twentytwenty&customize_messenger_channel=preview-3&customize_autosaved=on HTTP/1.1\" 200 20052 \"http://localhost/wp-admin/customize.php?autofocus[section]=static_front_page\" \"Mozilla/5.0 (Windows NT 10.0; Win64; x64) AppleWebKit/537.36 (KHTML, like Gecko) Chrome/97.0.4692.99 Safari/537.36\"\n",
      "172.19.0.1 - - [26/Jan/2022:17:39:47 +0000] \"GET /wp-includes/css/dashicons.min.css?ver=5.4.9 HTTP/1.1\" 200 28825 \"http://localhost/2022/01/26/hello-world/?customize_changeset_uuid=8a69c45f-40ab-449f-a47e-235eb6ef26cc&customize_theme=twentytwenty&customize_messenger_channel=preview-3&customize_autosaved=on\" \"Mozilla/5.0 (Windows NT 10.0; Win64; x64) AppleWebKit/537.36 (KHTML, like Gecko) Chrome/97.0.4692.99 Safari/537.36\"\n",
      "172.19.0.1 - - [26/Jan/2022:17:39:47 +0000] \"GET /wp-includes/css/customize-preview.min.css?ver=5.4.9 HTTP/1.1\" 200 1191 \"http://localhost/2022/01/26/hello-world/?customize_changeset_uuid=8a69c45f-40ab-449f-a47e-235eb6ef26cc&customize_theme=twentytwenty&customize_messenger_channel=preview-3&customize_autosaved=on\" \"Mozilla/5.0 (Windows NT 10.0; Win64; x64) AppleWebKit/537.36 (KHTML, like Gecko) Chrome/97.0.4692.99 Safari/537.36\"\n",
      "172.19.0.1 - - [26/Jan/2022:17:39:47 +0000] \"GET /wp-includes/js/dist/dom-ready.min.js?ver=93db39f6fe07a70cb9217310bec0a531 HTTP/1.1\" 200 949 \"http://localhost/2022/01/26/hello-world/?customize_changeset_uuid=8a69c45f-40ab-449f-a47e-235eb6ef26cc&customize_theme=twentytwenty&customize_messenger_channel=preview-3&customize_autosaved=on\" \"Mozilla/5.0 (Windows NT 10.0; Win64; x64) AppleWebKit/537.36 (KHTML, like Gecko) Chrome/97.0.4692.99 Safari/537.36\"\n",
      "172.19.0.1 - - [26/Jan/2022:17:39:47 +0000] \"GET /wp-includes/js/dist/a11y.min.js?ver=8d75be94e0703857a3323c972eb3d7d2 HTTP/1.1\" 200 1380 \"http://localhost/2022/01/26/hello-world/?customize_changeset_uuid=8a69c45f-40ab-449f-a47e-235eb6ef26cc&customize_theme=twentytwenty&customize_messenger_channel=preview-3&customize_autosaved=on\" \"Mozilla/5.0 (Windows NT 10.0; Win64; x64) AppleWebKit/537.36 (KHTML, like Gecko) Chrome/97.0.4692.99 Safari/537.36\"\n",
      "172.19.0.1 - - [26/Jan/2022:17:39:47 +0000] \"GET /wp-includes/js/customize-base.min.js?ver=5.4.9 HTTP/1.1\" 200 2847 \"http://localhost/2022/01/26/hello-world/?customize_changeset_uuid=8a69c45f-40ab-449f-a47e-235eb6ef26cc&customize_theme=twentytwenty&customize_messenger_channel=preview-3&customize_autosaved=on\" \"Mozilla/5.0 (Windows NT 10.0; Win64; x64) AppleWebKit/537.36 (KHTML, like Gecko) Chrome/97.0.4692.99 Safari/537.36\"\n",
      "172.19.0.1 - - [26/Jan/2022:17:39:47 +0000] \"GET /wp-includes/js/customize-preview.min.js?ver=5.4.9 HTTP/1.1\" 200 3475 \"http://localhost/2022/01/26/hello-world/?customize_changeset_uuid=8a69c45f-40ab-449f-a47e-235eb6ef26cc&customize_theme=twentytwenty&customize_messenger_channel=preview-3&customize_autosaved=on\" \"Mozilla/5.0 (Windows NT 10.0; Win64; x64) AppleWebKit/537.36 (KHTML, like Gecko) Chrome/97.0.4692.99 Safari/537.36\"\n",
      "172.19.0.1 - - [26/Jan/2022:17:39:47 +0000] \"GET /wp-includes/js/wp-util.min.js?ver=5.4.9 HTTP/1.1\" 200 938 \"http://localhost/2022/01/26/hello-world/?customize_changeset_uuid=8a69c45f-40ab-449f-a47e-235eb6ef26cc&customize_theme=twentytwenty&customize_messenger_channel=preview-3&customize_autosaved=on\" \"Mozilla/5.0 (Windows NT 10.0; Win64; x64) AppleWebKit/537.36 (KHTML, like Gecko) Chrome/97.0.4692.99 Safari/537.36\"\n",
      "172.19.0.1 - - [26/Jan/2022:17:39:47 +0000] \"GET /wp-includes/js/customize-selective-refresh.min.js?ver=5.4.9 HTTP/1.1\" 200 3973 \"http://localhost/2022/01/26/hello-world/?customize_changeset_uuid=8a69c45f-40ab-449f-a47e-235eb6ef26cc&customize_theme=twentytwenty&customize_messenger_channel=preview-3&customize_autosaved=on\" \"Mozilla/5.0 (Windows NT 10.0; Win64; x64) AppleWebKit/537.36 (KHTML, like Gecko) Chrome/97.0.4692.99 Safari/537.36\"\n",
      "172.19.0.1 - - [26/Jan/2022:17:39:47 +0000] \"GET /wp-includes/js/mediaelement/mediaelement-migrate.min.js?ver=5.4.9 HTTP/1.1\" 200 894 \"http://localhost/2022/01/26/hello-world/?customize_changeset_uuid=8a69c45f-40ab-449f-a47e-235eb6ef26cc&customize_theme=twentytwenty&customize_messenger_channel=preview-3&customize_autosaved=on\" \"Mozilla/5.0 (Windows NT 10.0; Win64; x64) AppleWebKit/537.36 (KHTML, like Gecko) Chrome/97.0.4692.99 Safari/537.36\"\n",
      "172.19.0.1 - - [26/Jan/2022:17:39:47 +0000] \"GET /wp-includes/js/comment-reply.min.js?ver=5.4.9 HTTP/1.1\" 200 1495 \"http://localhost/2022/01/26/hello-world/?customize_changeset_uuid=8a69c45f-40ab-449f-a47e-235eb6ef26cc&customize_theme=twentytwenty&customize_messenger_channel=preview-3&customize_autosaved=on\" \"Mozilla/5.0 (Windows NT 10.0; Win64; x64) AppleWebKit/537.36 (KHTML, like Gecko) Chrome/97.0.4692.99 Safari/537.36\"\n",
      "172.19.0.1 - - [26/Jan/2022:17:39:47 +0000] \"GET /wp-includes/js/mediaelement/wp-mediaelement.min.js?ver=5.4.9 HTTP/1.1\" 200 825 \"http://localhost/2022/01/26/hello-world/?customize_changeset_uuid=8a69c45f-40ab-449f-a47e-235eb6ef26cc&customize_theme=twentytwenty&customize_messenger_channel=preview-3&customize_autosaved=on\" \"Mozilla/5.0 (Windows NT 10.0; Win64; x64) AppleWebKit/537.36 (KHTML, like Gecko) Chrome/97.0.4692.99 Safari/537.36\"\n",
      "172.19.0.1 - - [26/Jan/2022:17:39:47 +0000] \"GET /wp-includes/js/backbone.min.js?ver=1.4.0 HTTP/1.1\" 200 8239 \"http://localhost/2022/01/26/hello-world/?customize_changeset_uuid=8a69c45f-40ab-449f-a47e-235eb6ef26cc&customize_theme=twentytwenty&customize_messenger_channel=preview-3&customize_autosaved=on\" \"Mozilla/5.0 (Windows NT 10.0; Win64; x64) AppleWebKit/537.36 (KHTML, like Gecko) Chrome/97.0.4692.99 Safari/537.36\"\n",
      "172.19.0.1 - - [26/Jan/2022:17:39:47 +0000] \"GET /wp-includes/js/customize-preview-widgets.min.js?ver=5.4.9 HTTP/1.1\" 200 2923 \"http://localhost/2022/01/26/hello-world/?customize_changeset_uuid=8a69c45f-40ab-449f-a47e-235eb6ef26cc&customize_theme=twentytwenty&customize_messenger_channel=preview-3&customize_autosaved=on\" \"Mozilla/5.0 (Windows NT 10.0; Win64; x64) AppleWebKit/537.36 (KHTML, like Gecko) Chrome/97.0.4692.99 Safari/537.36\"\n",
      "172.19.0.1 - - [26/Jan/2022:17:39:47 +0000] \"GET /wp-includes/js/customize-preview-nav-menus.min.js?ver=5.4.9 HTTP/1.1\" 200 2106 \"http://localhost/2022/01/26/hello-world/?customize_changeset_uuid=8a69c45f-40ab-449f-a47e-235eb6ef26cc&customize_theme=twentytwenty&customize_messenger_channel=preview-3&customize_autosaved=on\" \"Mozilla/5.0 (Windows NT 10.0; Win64; x64) AppleWebKit/537.36 (KHTML, like Gecko) Chrome/97.0.4692.99 Safari/537.36\"\n",
      "172.19.0.1 - - [26/Jan/2022:17:39:47 +0000] \"GET /wp-includes/js/wp-embed.min.js?ver=5.4.9 HTTP/1.1\" 200 1114 \"http://localhost/2022/01/26/hello-world/?customize_changeset_uuid=8a69c45f-40ab-449f-a47e-235eb6ef26cc&customize_theme=twentytwenty&customize_messenger_channel=preview-3&customize_autosaved=on\" \"Mozilla/5.0 (Windows NT 10.0; Win64; x64) AppleWebKit/537.36 (KHTML, like Gecko) Chrome/97.0.4692.99 Safari/537.36\"\n",
      "172.19.0.1 - - [26/Jan/2022:17:39:47 +0000] \"GET /wp-includes/js/wp-emoji-release.min.js?ver=5.4.9 HTTP/1.1\" 200 4997 \"http://localhost/2022/01/26/hello-world/?customize_changeset_uuid=8a69c45f-40ab-449f-a47e-235eb6ef26cc&customize_theme=twentytwenty&customize_messenger_channel=preview-3&customize_autosaved=on\" \"Mozilla/5.0 (Windows NT 10.0; Win64; x64) AppleWebKit/537.36 (KHTML, like Gecko) Chrome/97.0.4692.99 Safari/537.36\"\n",
      "127.0.0.1 - - [26/Jan/2022:17:39:53 +0000] \"OPTIONS * HTTP/1.0\" 200 126 \"-\" \"Apache/2.4.38 (Debian) PHP/7.4.9 (internal dummy connection)\"\n",
      "172.19.0.1 - - [26/Jan/2022:17:39:57 +0000] \"POST /wp-admin/admin-ajax.php HTTP/1.1\" 200 670 \"http://localhost/wp-admin/customize.php?autofocus[section]=static_front_page\" \"Mozilla/5.0 (Windows NT 10.0; Win64; x64) AppleWebKit/537.36 (KHTML, like Gecko) Chrome/97.0.4692.99 Safari/537.36\"\n",
      "172.19.0.1 - - [26/Jan/2022:17:40:12 +0000] \"POST /wp-admin/admin-ajax.php HTTP/1.1\" 200 598 \"http://localhost/wp-admin/customize.php?autofocus[section]=static_front_page\" \"Mozilla/5.0 (Windows NT 10.0; Win64; x64) AppleWebKit/537.36 (KHTML, like Gecko) Chrome/97.0.4692.99 Safari/537.36\"\n",
      "172.19.0.1 - - [26/Jan/2022:17:42:08 +0000] \"POST /wp-admin/admin-ajax.php HTTP/1.1\" 200 598 \"http://localhost/wp-admin/customize.php?autofocus[section]=static_front_page\" \"Mozilla/5.0 (Windows NT 10.0; Win64; x64) AppleWebKit/537.36 (KHTML, like Gecko) Chrome/97.0.4692.99 Safari/537.36\"\n",
      "172.19.0.1 - - [26/Jan/2022:17:43:00 +0000] \"GET /wp-includes/css/customize-preview.min.css?ver=5.4.9 HTTP/1.1\" 200 1191 \"http://localhost/category/uncategorized/?customize_changeset_uuid=8a69c45f-40ab-449f-a47e-235eb6ef26cc&customize_theme=twentytwenty&customize_messenger_channel=preview-4&customize_autosaved=on\" \"Mozilla/5.0 (Windows NT 10.0; Win64; x64) AppleWebKit/537.36 (KHTML, like Gecko) Chrome/97.0.4692.99 Safari/537.36\"\n",
      "172.19.0.1 - - [26/Jan/2022:17:43:00 +0000] \"GET /wp-includes/css/dashicons.min.css?ver=5.4.9 HTTP/1.1\" 200 28826 \"http://localhost/category/uncategorized/?customize_changeset_uuid=8a69c45f-40ab-449f-a47e-235eb6ef26cc&customize_theme=twentytwenty&customize_messenger_channel=preview-4&customize_autosaved=on\" \"Mozilla/5.0 (Windows NT 10.0; Win64; x64) AppleWebKit/537.36 (KHTML, like Gecko) Chrome/97.0.4692.99 Safari/537.36\"\n",
      "172.19.0.1 - - [26/Jan/2022:17:43:00 +0000] \"GET /wp-includes/js/wp-emoji-release.min.js?ver=5.4.9 HTTP/1.1\" 200 4997 \"http://localhost/category/uncategorized/?customize_changeset_uuid=8a69c45f-40ab-449f-a47e-235eb6ef26cc&customize_theme=twentytwenty&customize_messenger_channel=preview-4&customize_autosaved=on\" \"Mozilla/5.0 (Windows NT 10.0; Win64; x64) AppleWebKit/537.36 (KHTML, like Gecko) Chrome/97.0.4692.99 Safari/537.36\"\n",
      "172.19.0.1 - - [26/Jan/2022:17:43:00 +0000] \"GET /category/uncategorized/?customize_changeset_uuid=8a69c45f-40ab-449f-a47e-235eb6ef26cc&customize_theme=twentytwenty&customize_messenger_channel=preview-4&customize_autosaved=on HTTP/1.1\" 404 73938 \"http://localhost/wp-admin/customize.php?autofocus[section]=static_front_page\" \"Mozilla/5.0 (Windows NT 10.0; Win64; x64) AppleWebKit/537.36 (KHTML, like Gecko) Chrome/97.0.4692.99 Safari/537.36\"\n",
      "172.19.0.1 - - [26/Jan/2022:17:43:00 +0000] \"GET /wp-includes/js/dist/dom-ready.min.js?ver=93db39f6fe07a70cb9217310bec0a531 HTTP/1.1\" 200 949 \"http://localhost/category/uncategorized/?customize_changeset_uuid=8a69c45f-40ab-449f-a47e-235eb6ef26cc&customize_theme=twentytwenty&customize_messenger_channel=preview-4&customize_autosaved=on\" \"Mozilla/5.0 (Windows NT 10.0; Win64; x64) AppleWebKit/537.36 (KHTML, like Gecko) Chrome/97.0.4692.99 Safari/537.36\"\n",
      "172.19.0.1 - - [26/Jan/2022:17:43:00 +0000] \"GET /wp-includes/js/dist/a11y.min.js?ver=8d75be94e0703857a3323c972eb3d7d2 HTTP/1.1\" 200 1380 \"http://localhost/category/uncategorized/?customize_changeset_uuid=8a69c45f-40ab-449f-a47e-235eb6ef26cc&customize_theme=twentytwenty&customize_messenger_channel=preview-4&customize_autosaved=on\" \"Mozilla/5.0 (Windows NT 10.0; Win64; x64) AppleWebKit/537.36 (KHTML, like Gecko) Chrome/97.0.4692.99 Safari/537.36\"\n",
      "172.19.0.1 - - [26/Jan/2022:17:43:00 +0000] \"GET /wp-includes/js/customize-base.min.js?ver=5.4.9 HTTP/1.1\" 200 2847 \"http://localhost/category/uncategorized/?customize_changeset_uuid=8a69c45f-40ab-449f-a47e-235eb6ef26cc&customize_theme=twentytwenty&customize_messenger_channel=preview-4&customize_autosaved=on\" \"Mozilla/5.0 (Windows NT 10.0; Win64; x64) AppleWebKit/537.36 (KHTML, like Gecko) Chrome/97.0.4692.99 Safari/537.36\"\n",
      "172.19.0.1 - - [26/Jan/2022:17:43:00 +0000] \"GET /wp-includes/js/customize-preview.min.js?ver=5.4.9 HTTP/1.1\" 200 3476 \"http://localhost/category/uncategorized/?customize_changeset_uuid=8a69c45f-40ab-449f-a47e-235eb6ef26cc&customize_theme=twentytwenty&customize_messenger_channel=preview-4&customize_autosaved=on\" \"Mozilla/5.0 (Windows NT 10.0; Win64; x64) AppleWebKit/537.36 (KHTML, like Gecko) Chrome/97.0.4692.99 Safari/537.36\"\n",
      "172.19.0.1 - - [26/Jan/2022:17:43:00 +0000] \"GET /wp-includes/js/wp-util.min.js?ver=5.4.9 HTTP/1.1\" 200 938 \"http://localhost/category/uncategorized/?customize_changeset_uuid=8a69c45f-40ab-449f-a47e-235eb6ef26cc&customize_theme=twentytwenty&customize_messenger_channel=preview-4&customize_autosaved=on\" \"Mozilla/5.0 (Windows NT 10.0; Win64; x64) AppleWebKit/537.36 (KHTML, like Gecko) Chrome/97.0.4692.99 Safari/537.36\"\n",
      "172.19.0.1 - - [26/Jan/2022:17:43:00 +0000] \"GET /wp-includes/js/customize-selective-refresh.min.js?ver=5.4.9 HTTP/1.1\" 200 3973 \"http://localhost/category/uncategorized/?customize_changeset_uuid=8a69c45f-40ab-449f-a47e-235eb6ef26cc&customize_theme=twentytwenty&customize_messenger_channel=preview-4&customize_autosaved=on\" \"Mozilla/5.0 (Windows NT 10.0; Win64; x64) AppleWebKit/537.36 (KHTML, like Gecko) Chrome/97.0.4692.99 Safari/537.36\"\n",
      "172.19.0.1 - - [26/Jan/2022:17:43:00 +0000] \"GET /wp-includes/js/mediaelement/mediaelement-migrate.min.js?ver=5.4.9 HTTP/1.1\" 200 893 \"http://localhost/category/uncategorized/?customize_changeset_uuid=8a69c45f-40ab-449f-a47e-235eb6ef26cc&customize_theme=twentytwenty&customize_messenger_channel=preview-4&customize_autosaved=on\" \"Mozilla/5.0 (Windows NT 10.0; Win64; x64) AppleWebKit/537.36 (KHTML, like Gecko) Chrome/97.0.4692.99 Safari/537.36\"\n",
      "172.19.0.1 - - [26/Jan/2022:17:43:00 +0000] \"GET /wp-includes/js/mediaelement/wp-mediaelement.min.js?ver=5.4.9 HTTP/1.1\" 200 825 \"http://localhost/category/uncategorized/?customize_changeset_uuid=8a69c45f-40ab-449f-a47e-235eb6ef26cc&customize_theme=twentytwenty&customize_messenger_channel=preview-4&customize_autosaved=on\" \"Mozilla/5.0 (Windows NT 10.0; Win64; x64) AppleWebKit/537.36 (KHTML, like Gecko) Chrome/97.0.4692.99 Safari/537.36\"\n",
      "172.19.0.1 - - [26/Jan/2022:17:43:00 +0000] \"GET /wp-includes/js/backbone.min.js?ver=1.4.0 HTTP/1.1\" 200 8239 \"http://localhost/category/uncategorized/?customize_changeset_uuid=8a69c45f-40ab-449f-a47e-235eb6ef26cc&customize_theme=twentytwenty&customize_messenger_channel=preview-4&customize_autosaved=on\" \"Mozilla/5.0 (Windows NT 10.0; Win64; x64) AppleWebKit/537.36 (KHTML, like Gecko) Chrome/97.0.4692.99 Safari/537.36\"\n",
      "172.19.0.1 - - [26/Jan/2022:17:43:00 +0000] \"GET /wp-includes/js/customize-preview-widgets.min.js?ver=5.4.9 HTTP/1.1\" 200 2923 \"http://localhost/category/uncategorized/?customize_changeset_uuid=8a69c45f-40ab-449f-a47e-235eb6ef26cc&customize_theme=twentytwenty&customize_messenger_channel=preview-4&customize_autosaved=on\" \"Mozilla/5.0 (Windows NT 10.0; Win64; x64) AppleWebKit/537.36 (KHTML, like Gecko) Chrome/97.0.4692.99 Safari/537.36\"\n",
      "172.19.0.1 - - [26/Jan/2022:17:43:00 +0000] \"GET /wp-includes/js/wp-embed.min.js?ver=5.4.9 HTTP/1.1\" 200 1114 \"http://localhost/category/uncategorized/?customize_changeset_uuid=8a69c45f-40ab-449f-a47e-235eb6ef26cc&customize_theme=twentytwenty&customize_messenger_channel=preview-4&customize_autosaved=on\" \"Mozilla/5.0 (Windows NT 10.0; Win64; x64) AppleWebKit/537.36 (KHTML, like Gecko) Chrome/97.0.4692.99 Safari/537.36\"\n",
      "172.19.0.1 - - [26/Jan/2022:17:43:00 +0000] \"GET /wp-includes/js/customize-preview-nav-menus.min.js?ver=5.4.9 HTTP/1.1\" 200 2106 \"http://localhost/category/uncategorized/?customize_changeset_uuid=8a69c45f-40ab-449f-a47e-235eb6ef26cc&customize_theme=twentytwenty&customize_messenger_channel=preview-4&customize_autosaved=on\" \"Mozilla/5.0 (Windows NT 10.0; Win64; x64) AppleWebKit/537.36 (KHTML, like Gecko) Chrome/97.0.4692.99 Safari/537.36\"\n",
      "127.0.0.1 - - [26/Jan/2022:17:43:05 +0000] \"OPTIONS * HTTP/1.0\" 200 126 \"-\" \"Apache/2.4.38 (Debian) PHP/7.4.9 (internal dummy connection)\"\n",
      "172.19.0.1 - - [26/Jan/2022:17:43:08 +0000] \"POST /wp-admin/admin-ajax.php HTTP/1.1\" 200 598 \"http://localhost/wp-admin/customize.php?autofocus[section]=static_front_page\" \"Mozilla/5.0 (Windows NT 10.0; Win64; x64) AppleWebKit/537.36 (KHTML, like Gecko) Chrome/97.0.4692.99 Safari/537.36\"\n",
      "172.19.0.1 - - [26/Jan/2022:17:43:12 +0000] \"POST /category/uncategorized/?customize_changeset_uuid=8a69c45f-40ab-449f-a47e-235eb6ef26cc&customize_theme=twentytwenty&customize_messenger_channel=preview-5&customize_autosaved=on HTTP/1.1\" 404 74111 \"http://localhost/wp-admin/customize.php?autofocus[section]=static_front_page\" \"Mozilla/5.0 (Windows NT 10.0; Win64; x64) AppleWebKit/537.36 (KHTML, like Gecko) Chrome/97.0.4692.99 Safari/537.36\"\n",
      "172.19.0.1 - - [26/Jan/2022:17:43:15 +0000] \"POST /wp-admin/admin-ajax.php HTTP/1.1\" 200 2885 \"http://localhost/wp-admin/customize.php?autofocus[section]=static_front_page\" \"Mozilla/5.0 (Windows NT 10.0; Win64; x64) AppleWebKit/537.36 (KHTML, like Gecko) Chrome/97.0.4692.99 Safari/537.36\"\n",
      "172.19.0.1 - - [26/Jan/2022:17:43:17 +0000] \"GET /category/uncategorized/?customize_changeset_uuid=b7f8f19a-c778-4bfd-9262-44bb488d5791&customize_theme=twentytwenty&customize_messenger_channel=preview-6&customize_autosaved=on HTTP/1.1\" 200 18596 \"http://localhost/wp-admin/customize.php?autofocus[section]=static_front_page\" \"Mozilla/5.0 (Windows NT 10.0; Win64; x64) AppleWebKit/537.36 (KHTML, like Gecko) Chrome/97.0.4692.99 Safari/537.36\"\n",
      "172.19.0.1 - - [26/Jan/2022:17:43:21 +0000] \"POST /wp-admin/admin-ajax.php HTTP/1.1\" 200 1872 \"http://localhost/wp-admin/customize.php?autofocus[section]=static_front_page\" \"Mozilla/5.0 (Windows NT 10.0; Win64; x64) AppleWebKit/537.36 (KHTML, like Gecko) Chrome/97.0.4692.99 Safari/537.36\"\n",
      "172.19.0.1 - - [26/Jan/2022:17:44:08 +0000] \"POST /wp-admin/admin-ajax.php HTTP/1.1\" 200 598 \"http://localhost/wp-admin/customize.php?autofocus[section]=static_front_page\" \"Mozilla/5.0 (Windows NT 10.0; Win64; x64) AppleWebKit/537.36 (KHTML, like Gecko) Chrome/97.0.4692.99 Safari/537.36\"\n"
     ]
    }
   ],
   "source": [
    "!docker stop wordpress"
   ]
  },
  {
   "cell_type": "code",
   "execution_count": 28,
   "metadata": {},
   "outputs": [
    {
     "name": "stdout",
     "output_type": "stream",
     "text": [
      "CONTAINER ID   IMAGE     COMMAND   CREATED   STATUS    PORTS     NAMES\n"
     ]
    }
   ],
   "source": [
    "!docker ps"
   ]
  },
  {
   "cell_type": "code",
   "execution_count": 29,
   "metadata": {},
   "outputs": [
    {
     "name": "stdout",
     "output_type": "stream",
     "text": [
      "CONTAINER ID   IMAGE           COMMAND                  CREATED          STATUS                      PORTS     NAMES\n",
      "f47d5387d01e   wordpress:5.4   \"docker-entrypoint.s…\"   27 minutes ago   Exited (0) 11 minutes ago             wordpress\n",
      "e4c7d5ef2386   phpmyadmin      \"/docker-entrypoint.…\"   32 minutes ago   Exited (0) 11 minutes ago             phpmyadmin\n",
      "d0fd9d540874   mysql:5.7       \"docker-entrypoint.s…\"   38 minutes ago   Exited (0) 12 minutes ago             mysql\n"
     ]
    }
   ],
   "source": [
    "!docker ps -a"
   ]
  },
  {
   "cell_type": "code",
   "execution_count": 35,
   "metadata": {},
   "outputs": [
    {
     "name": "stdout",
     "output_type": "stream",
     "text": [
      "CONTAINER ID   IMAGE     COMMAND   CREATED   STATUS    PORTS     NAMES\n"
     ]
    }
   ],
   "source": [
    "!docker ps -a"
   ]
  },
  {
   "cell_type": "code",
   "execution_count": null,
   "metadata": {},
   "outputs": [],
   "source": []
  }
 ],
 "metadata": {
  "interpreter": {
   "hash": "b3ba2566441a7c06988d0923437866b63cedc61552a5af99d1f4fb67d367b25f"
  },
  "kernelspec": {
   "display_name": "Python 3.9.7 64-bit ('base': conda)",
   "language": "python",
   "name": "python3"
  },
  "language_info": {
   "codemirror_mode": {
    "name": "ipython",
    "version": 3
   },
   "file_extension": ".py",
   "mimetype": "text/x-python",
   "name": "python",
   "nbconvert_exporter": "python",
   "pygments_lexer": "ipython3",
   "version": "3.9.7"
  },
  "orig_nbformat": 4
 },
 "nbformat": 4,
 "nbformat_minor": 2
}
